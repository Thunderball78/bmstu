{
 "cells": [
  {
   "cell_type": "markdown",
   "metadata": {},
   "source": [
    "### Итоговая работа\n",
    "### 12448/1 ИНЖДАН МГТУ им. Н.Э. Баумана\n",
    "### Инженер данных (Data engineer)\n",
    "### Андреев Андрей Анатольевич"
   ]
  },
  {
   "cell_type": "markdown",
   "metadata": {},
   "source": [
    "## КЛАССИФИКАЦИЯ ГОСКОНТРАКТОВ ПО ОБЪЕКТАМ ЗАКУПКИ\n",
    "\n",
    "#### Задача: необходимо на основе данных с ftp.zakupki.gov.ru научиться определять группу, к которой относится контракт с кодом ОКПД-2 41, 42, 43, 71.1.\n",
    "\n",
    "Группы могут быть следующими:\n",
    "\n",
    "1.\tСтроительно-монтажные работы (СМР)\n",
    "2.\tПроектно-изыскательские работы (ПИР)\n",
    "3.\tСтроительный надзор\n",
    "4.\tПодключение коммуникаций\n",
    "5.\tПрочее.\n",
    "\n",
    "По ОКПД-2 контракты в общем случае должны разделяться так:\n",
    "- Строительно-монтажные работы (СМР) - 41, 42, 43(кроме нижеперечисленных)\n",
    "- Проектно-изыскательские работы (ПИР) - 41.1, 71.1\n",
    "- Подключение коммуникаций - 43.22\n",
    "- Строительный надзор – четкой группы нет.\n",
    "\n",
    "\n",
    "Проблема: Далеко не всегда контракты указываются с нужным кодом, поэтому есть проблема как такие контракты \"отловить\" и определить в нужную группу.\n",
    "\n",
    "Поэтому задача предполагает классификацию контрактов на основе объекта закупки, который сформулирован естественным языком. Также предполагаем, что могут иметь значение цена контракта и его длительность.\n",
    "На основе этого на входе данные о контрактах. На выходе необходимо получить группу для каждого контракта.\n",
    "\n",
    "Иногда контракт может относиться одновременно в несколько групп.\n",
    "\n",
    "В приложении ниже пример нескольких контрактов, у которых неверно проставлен ОКПД-2."
   ]
  },
  {
   "cell_type": "markdown",
   "metadata": {},
   "source": [
    "# Шаг 3 - NLP процесс"
   ]
  },
  {
   "cell_type": "code",
   "execution_count": 2,
   "metadata": {},
   "outputs": [
    {
     "name": "stdout",
     "output_type": "stream",
     "text": [
      "Requirement already satisfied: scikit-learn in c:\\python311\\lib\\site-packages (1.3.1)\n",
      "Requirement already satisfied: numpy<2.0,>=1.17.3 in c:\\python311\\lib\\site-packages (from scikit-learn) (1.26.0)\n",
      "Requirement already satisfied: scipy>=1.5.0 in c:\\python311\\lib\\site-packages (from scikit-learn) (1.11.3)\n",
      "Requirement already satisfied: joblib>=1.1.1 in c:\\python311\\lib\\site-packages (from scikit-learn) (1.3.2)\n",
      "Requirement already satisfied: threadpoolctl>=2.0.0 in c:\\python311\\lib\\site-packages (from scikit-learn) (3.2.0)\n"
     ]
    },
    {
     "name": "stderr",
     "output_type": "stream",
     "text": [
      "\n",
      "[notice] A new release of pip is available: 23.2.1 -> 23.3.1\n",
      "[notice] To update, run: python.exe -m pip install --upgrade pip\n"
     ]
    },
    {
     "name": "stdout",
     "output_type": "stream",
     "text": [
      "Requirement already satisfied: nltk in c:\\python311\\lib\\site-packages (3.8.1)\n",
      "Requirement already satisfied: click in c:\\python311\\lib\\site-packages (from nltk) (8.1.7)\n",
      "Requirement already satisfied: joblib in c:\\python311\\lib\\site-packages (from nltk) (1.3.2)\n",
      "Requirement already satisfied: regex>=2021.8.3 in c:\\python311\\lib\\site-packages (from nltk) (2023.10.3)\n",
      "Requirement already satisfied: tqdm in c:\\python311\\lib\\site-packages (from nltk) (4.66.1)\n",
      "Requirement already satisfied: colorama in c:\\users\\head\\appdata\\roaming\\python\\python311\\site-packages (from click->nltk) (0.4.6)\n"
     ]
    },
    {
     "name": "stderr",
     "output_type": "stream",
     "text": [
      "\n",
      "[notice] A new release of pip is available: 23.2.1 -> 23.3.1\n",
      "[notice] To update, run: python.exe -m pip install --upgrade pip\n"
     ]
    },
    {
     "name": "stdout",
     "output_type": "stream",
     "text": [
      "Requirement already satisfied: pymorphy2 in c:\\python311\\lib\\site-packages (0.9.1)\n",
      "Requirement already satisfied: dawg-python>=0.7.1 in c:\\python311\\lib\\site-packages (from pymorphy2) (0.7.2)\n",
      "Requirement already satisfied: pymorphy2-dicts-ru<3.0,>=2.4 in c:\\python311\\lib\\site-packages (from pymorphy2) (2.4.417127.4579844)\n",
      "Requirement already satisfied: docopt>=0.6 in c:\\python311\\lib\\site-packages (from pymorphy2) (0.6.2)\n"
     ]
    },
    {
     "name": "stderr",
     "output_type": "stream",
     "text": [
      "\n",
      "[notice] A new release of pip is available: 23.2.1 -> 23.3.1\n",
      "[notice] To update, run: python.exe -m pip install --upgrade pip\n"
     ]
    },
    {
     "name": "stdout",
     "output_type": "stream",
     "text": [
      "Requirement already satisfied: requests in c:\\python311\\lib\\site-packages (2.31.0)\n",
      "Requirement already satisfied: charset-normalizer<4,>=2 in c:\\python311\\lib\\site-packages (from requests) (3.3.0)\n",
      "Requirement already satisfied: idna<4,>=2.5 in c:\\python311\\lib\\site-packages (from requests) (3.4)\n",
      "Requirement already satisfied: urllib3<3,>=1.21.1 in c:\\python311\\lib\\site-packages (from requests) (2.0.6)\n",
      "Requirement already satisfied: certifi>=2017.4.17 in c:\\python311\\lib\\site-packages (from requests) (2023.7.22)\n"
     ]
    },
    {
     "name": "stderr",
     "output_type": "stream",
     "text": [
      "\n",
      "[notice] A new release of pip is available: 23.2.1 -> 23.3.1\n",
      "[notice] To update, run: python.exe -m pip install --upgrade pip\n"
     ]
    },
    {
     "name": "stdout",
     "output_type": "stream",
     "text": [
      "Requirement already satisfied: gensim in c:\\python311\\lib\\site-packages (4.3.2)\n",
      "Requirement already satisfied: numpy>=1.18.5 in c:\\python311\\lib\\site-packages (from gensim) (1.26.0)\n",
      "Requirement already satisfied: scipy>=1.7.0 in c:\\python311\\lib\\site-packages (from gensim) (1.11.3)\n",
      "Requirement already satisfied: smart-open>=1.8.1 in c:\\python311\\lib\\site-packages (from gensim) (6.4.0)\n"
     ]
    },
    {
     "name": "stderr",
     "output_type": "stream",
     "text": [
      "\n",
      "[notice] A new release of pip is available: 23.2.1 -> 23.3.1\n",
      "[notice] To update, run: python.exe -m pip install --upgrade pip\n"
     ]
    },
    {
     "name": "stdout",
     "output_type": "stream",
     "text": [
      "Requirement already satisfied: pymystem3 in c:\\python311\\lib\\site-packages (0.2.0)\n",
      "Requirement already satisfied: requests in c:\\python311\\lib\\site-packages (from pymystem3) (2.31.0)\n",
      "Requirement already satisfied: charset-normalizer<4,>=2 in c:\\python311\\lib\\site-packages (from requests->pymystem3) (3.3.0)\n",
      "Requirement already satisfied: idna<4,>=2.5 in c:\\python311\\lib\\site-packages (from requests->pymystem3) (3.4)\n",
      "Requirement already satisfied: urllib3<3,>=1.21.1 in c:\\python311\\lib\\site-packages (from requests->pymystem3) (2.0.6)\n",
      "Requirement already satisfied: certifi>=2017.4.17 in c:\\python311\\lib\\site-packages (from requests->pymystem3) (2023.7.22)\n"
     ]
    },
    {
     "name": "stderr",
     "output_type": "stream",
     "text": [
      "\n",
      "[notice] A new release of pip is available: 23.2.1 -> 23.3.1\n",
      "[notice] To update, run: python.exe -m pip install --upgrade pip\n"
     ]
    },
    {
     "name": "stdout",
     "output_type": "stream",
     "text": [
      "Requirement already satisfied: matplotlib in c:\\python311\\lib\\site-packages (3.8.0)\n",
      "Requirement already satisfied: contourpy>=1.0.1 in c:\\python311\\lib\\site-packages (from matplotlib) (1.1.1)\n",
      "Requirement already satisfied: cycler>=0.10 in c:\\python311\\lib\\site-packages (from matplotlib) (0.12.1)\n",
      "Requirement already satisfied: fonttools>=4.22.0 in c:\\python311\\lib\\site-packages (from matplotlib) (4.43.1)\n",
      "Requirement already satisfied: kiwisolver>=1.0.1 in c:\\python311\\lib\\site-packages (from matplotlib) (1.4.5)\n",
      "Requirement already satisfied: numpy<2,>=1.21 in c:\\python311\\lib\\site-packages (from matplotlib) (1.26.0)\n",
      "Requirement already satisfied: packaging>=20.0 in c:\\users\\head\\appdata\\roaming\\python\\python311\\site-packages (from matplotlib) (23.2)\n",
      "Requirement already satisfied: pillow>=6.2.0 in c:\\python311\\lib\\site-packages (from matplotlib) (10.1.0)\n",
      "Requirement already satisfied: pyparsing>=2.3.1 in c:\\python311\\lib\\site-packages (from matplotlib) (3.1.1)\n",
      "Requirement already satisfied: python-dateutil>=2.7 in c:\\users\\head\\appdata\\roaming\\python\\python311\\site-packages (from matplotlib) (2.8.2)\n",
      "Requirement already satisfied: six>=1.5 in c:\\users\\head\\appdata\\roaming\\python\\python311\\site-packages (from python-dateutil>=2.7->matplotlib) (1.16.0)\n"
     ]
    },
    {
     "name": "stderr",
     "output_type": "stream",
     "text": [
      "\n",
      "[notice] A new release of pip is available: 23.2.1 -> 23.3.1\n",
      "[notice] To update, run: python.exe -m pip install --upgrade pip\n"
     ]
    }
   ],
   "source": [
    "! pip install scikit-learn\n",
    "! pip install nltk\n",
    "! pip install pymorphy2\n",
    "! pip install requests\n",
    "! pip install gensim\n",
    "! pip install pymystem3\n",
    "! pip install matplotlib"
   ]
  },
  {
   "cell_type": "code",
   "execution_count": 3,
   "metadata": {},
   "outputs": [],
   "source": [
    "import pandas as pd\n",
    "import numpy as np"
   ]
  },
  {
   "cell_type": "code",
   "execution_count": 4,
   "metadata": {},
   "outputs": [],
   "source": [
    "columns = ['id', 'contract_number', 'object_name', 'object_code', 'cost', 'contract_execution_days']\n",
    "dtypes = {'id': lambda x: pd.to_numeric(x, errors=\"coerce\"), \n",
    "          'contract_number': str, \n",
    "          'object_name': str,\n",
    "          'object_code': str, \n",
    "          'cost':lambda x: pd.to_numeric(x, errors=\"coerce\"), \n",
    "          'contract_execution_days': lambda x: pd.to_numeric(x, errors=\"coerce\")}"
   ]
  },
  {
   "cell_type": "code",
   "execution_count": 5,
   "metadata": {},
   "outputs": [
    {
     "data": {
      "text/plain": [
       "(14197786, 6)"
      ]
     },
     "execution_count": 5,
     "metadata": {},
     "output_type": "execute_result"
    }
   ],
   "source": [
    "df = pd.read_csv('datasets/dataset_clean.csv', sep=';', low_memory=False, on_bad_lines='skip')\n",
    "df.shape"
   ]
  },
  {
   "cell_type": "code",
   "execution_count": 6,
   "metadata": {},
   "outputs": [
    {
     "data": {
      "text/html": [
       "<div>\n",
       "<style scoped>\n",
       "    .dataframe tbody tr th:only-of-type {\n",
       "        vertical-align: middle;\n",
       "    }\n",
       "\n",
       "    .dataframe tbody tr th {\n",
       "        vertical-align: top;\n",
       "    }\n",
       "\n",
       "    .dataframe thead th {\n",
       "        text-align: right;\n",
       "    }\n",
       "</style>\n",
       "<table border=\"1\" class=\"dataframe\">\n",
       "  <thead>\n",
       "    <tr style=\"text-align: right;\">\n",
       "      <th></th>\n",
       "      <th>id</th>\n",
       "      <th>contract_number</th>\n",
       "      <th>object_code</th>\n",
       "      <th>cost</th>\n",
       "      <th>contract_execution_days</th>\n",
       "    </tr>\n",
       "  </thead>\n",
       "  <tbody>\n",
       "    <tr>\n",
       "      <th>count</th>\n",
       "      <td>1.419779e+07</td>\n",
       "      <td>1.419779e+07</td>\n",
       "      <td>1.419724e+07</td>\n",
       "      <td>1.419779e+07</td>\n",
       "      <td>1.419779e+07</td>\n",
       "    </tr>\n",
       "    <tr>\n",
       "      <th>mean</th>\n",
       "      <td>1.591788e+07</td>\n",
       "      <td>2.751354e+18</td>\n",
       "      <td>3.662128e+01</td>\n",
       "      <td>2.201673e+06</td>\n",
       "      <td>2.204985e+02</td>\n",
       "    </tr>\n",
       "    <tr>\n",
       "      <th>std</th>\n",
       "      <td>1.029077e+07</td>\n",
       "      <td>7.006991e+17</td>\n",
       "      <td>2.251888e+01</td>\n",
       "      <td>9.988996e+07</td>\n",
       "      <td>1.534003e+02</td>\n",
       "    </tr>\n",
       "    <tr>\n",
       "      <th>min</th>\n",
       "      <td>1.373130e+05</td>\n",
       "      <td>1.423000e+17</td>\n",
       "      <td>1.100000e+00</td>\n",
       "      <td>1.000000e-02</td>\n",
       "      <td>1.000000e+00</td>\n",
       "    </tr>\n",
       "    <tr>\n",
       "      <th>25%</th>\n",
       "      <td>6.804842e+06</td>\n",
       "      <td>2.360900e+18</td>\n",
       "      <td>2.120000e+01</td>\n",
       "      <td>3.825000e+04</td>\n",
       "      <td>9.600000e+01</td>\n",
       "    </tr>\n",
       "    <tr>\n",
       "      <th>50%</th>\n",
       "      <td>1.489233e+07</td>\n",
       "      <td>2.772393e+18</td>\n",
       "      <td>3.310000e+01</td>\n",
       "      <td>1.497160e+05</td>\n",
       "      <td>2.000000e+02</td>\n",
       "    </tr>\n",
       "    <tr>\n",
       "      <th>75%</th>\n",
       "      <td>2.398329e+07</td>\n",
       "      <td>3.343301e+18</td>\n",
       "      <td>4.390000e+01</td>\n",
       "      <td>5.626637e+05</td>\n",
       "      <td>3.430000e+02</td>\n",
       "    </tr>\n",
       "    <tr>\n",
       "      <th>max</th>\n",
       "      <td>3.509658e+07</td>\n",
       "      <td>4.920456e+18</td>\n",
       "      <td>9.900000e+01</td>\n",
       "      <td>1.425579e+11</td>\n",
       "      <td>2.000000e+03</td>\n",
       "    </tr>\n",
       "  </tbody>\n",
       "</table>\n",
       "</div>"
      ],
      "text/plain": [
       "                 id  contract_number   object_code          cost  \\\n",
       "count  1.419779e+07     1.419779e+07  1.419724e+07  1.419779e+07   \n",
       "mean   1.591788e+07     2.751354e+18  3.662128e+01  2.201673e+06   \n",
       "std    1.029077e+07     7.006991e+17  2.251888e+01  9.988996e+07   \n",
       "min    1.373130e+05     1.423000e+17  1.100000e+00  1.000000e-02   \n",
       "25%    6.804842e+06     2.360900e+18  2.120000e+01  3.825000e+04   \n",
       "50%    1.489233e+07     2.772393e+18  3.310000e+01  1.497160e+05   \n",
       "75%    2.398329e+07     3.343301e+18  4.390000e+01  5.626637e+05   \n",
       "max    3.509658e+07     4.920456e+18  9.900000e+01  1.425579e+11   \n",
       "\n",
       "       contract_execution_days  \n",
       "count             1.419779e+07  \n",
       "mean              2.204985e+02  \n",
       "std               1.534003e+02  \n",
       "min               1.000000e+00  \n",
       "25%               9.600000e+01  \n",
       "50%               2.000000e+02  \n",
       "75%               3.430000e+02  \n",
       "max               2.000000e+03  "
      ]
     },
     "execution_count": 6,
     "metadata": {},
     "output_type": "execute_result"
    }
   ],
   "source": [
    "df.describe()"
   ]
  },
  {
   "cell_type": "code",
   "execution_count": 7,
   "metadata": {},
   "outputs": [
    {
     "data": {
      "text/plain": [
       "id                                  int64\n",
       "contract_number                     int64\n",
       "object_name                string[python]\n",
       "object_code                string[python]\n",
       "cost                              float64\n",
       "contract_execution_days             int64\n",
       "dtype: object"
      ]
     },
     "execution_count": 7,
     "metadata": {},
     "output_type": "execute_result"
    }
   ],
   "source": [
    "df['object_name']  = df['object_name'].astype('string')\n",
    "df['object_code']  = df['object_code'].astype('string')\n",
    "df.dtypes"
   ]
  },
  {
   "cell_type": "code",
   "execution_count": 8,
   "metadata": {},
   "outputs": [
    {
     "data": {
      "text/html": [
       "<div>\n",
       "<style scoped>\n",
       "    .dataframe tbody tr th:only-of-type {\n",
       "        vertical-align: middle;\n",
       "    }\n",
       "\n",
       "    .dataframe tbody tr th {\n",
       "        vertical-align: top;\n",
       "    }\n",
       "\n",
       "    .dataframe thead th {\n",
       "        text-align: right;\n",
       "    }\n",
       "</style>\n",
       "<table border=\"1\" class=\"dataframe\">\n",
       "  <thead>\n",
       "    <tr style=\"text-align: right;\">\n",
       "      <th></th>\n",
       "      <th>id</th>\n",
       "      <th>contract_number</th>\n",
       "      <th>object_name</th>\n",
       "      <th>object_code</th>\n",
       "      <th>cost</th>\n",
       "      <th>contract_execution_days</th>\n",
       "    </tr>\n",
       "  </thead>\n",
       "  <tbody>\n",
       "    <tr>\n",
       "      <th>0</th>\n",
       "      <td>137313</td>\n",
       "      <td>2590229330821001063</td>\n",
       "      <td>Средства лекарственные и материалы, применяемы...</td>\n",
       "      <td>21.2</td>\n",
       "      <td>342150.00</td>\n",
       "      <td>21</td>\n",
       "    </tr>\n",
       "    <tr>\n",
       "      <th>1</th>\n",
       "      <td>137314</td>\n",
       "      <td>2590229330821001064</td>\n",
       "      <td>Средства лекарственные и материалы, применяемы...</td>\n",
       "      <td>21.2</td>\n",
       "      <td>342150.00</td>\n",
       "      <td>18</td>\n",
       "    </tr>\n",
       "    <tr>\n",
       "      <th>2</th>\n",
       "      <td>137315</td>\n",
       "      <td>2590229330821001065</td>\n",
       "      <td>Средства лекарственные и материалы, применяемы...</td>\n",
       "      <td>21.2</td>\n",
       "      <td>342150.00</td>\n",
       "      <td>18</td>\n",
       "    </tr>\n",
       "    <tr>\n",
       "      <th>3</th>\n",
       "      <td>137320</td>\n",
       "      <td>2590229330821001067</td>\n",
       "      <td>Средства лекарственные и материалы, применяемы...</td>\n",
       "      <td>21.2</td>\n",
       "      <td>26457423.22</td>\n",
       "      <td>389</td>\n",
       "    </tr>\n",
       "    <tr>\n",
       "      <th>4</th>\n",
       "      <td>137324</td>\n",
       "      <td>2590229330821001070</td>\n",
       "      <td>Средства лекарственные и материалы, применяемы...</td>\n",
       "      <td>21.2</td>\n",
       "      <td>5756951.20</td>\n",
       "      <td>389</td>\n",
       "    </tr>\n",
       "  </tbody>\n",
       "</table>\n",
       "</div>"
      ],
      "text/plain": [
       "       id      contract_number  \\\n",
       "0  137313  2590229330821001063   \n",
       "1  137314  2590229330821001064   \n",
       "2  137315  2590229330821001065   \n",
       "3  137320  2590229330821001067   \n",
       "4  137324  2590229330821001070   \n",
       "\n",
       "                                         object_name object_code         cost  \\\n",
       "0  Средства лекарственные и материалы, применяемы...        21.2    342150.00   \n",
       "1  Средства лекарственные и материалы, применяемы...        21.2    342150.00   \n",
       "2  Средства лекарственные и материалы, применяемы...        21.2    342150.00   \n",
       "3  Средства лекарственные и материалы, применяемы...        21.2  26457423.22   \n",
       "4  Средства лекарственные и материалы, применяемы...        21.2   5756951.20   \n",
       "\n",
       "   contract_execution_days  \n",
       "0                       21  \n",
       "1                       18  \n",
       "2                       18  \n",
       "3                      389  \n",
       "4                      389  "
      ]
     },
     "execution_count": 8,
     "metadata": {},
     "output_type": "execute_result"
    }
   ],
   "source": [
    "df.head()"
   ]
  },
  {
   "cell_type": "code",
   "execution_count": 9,
   "metadata": {},
   "outputs": [
    {
     "name": "stdout",
     "output_type": "stream",
     "text": [
      "<class 'pandas.core.frame.DataFrame'>\n",
      "RangeIndex: 14197786 entries, 0 to 14197785\n",
      "Data columns (total 6 columns):\n",
      " #   Column                   Dtype  \n",
      "---  ------                   -----  \n",
      " 0   id                       int64  \n",
      " 1   contract_number          int64  \n",
      " 2   object_name              string \n",
      " 3   object_code              string \n",
      " 4   cost                     float64\n",
      " 5   contract_execution_days  int64  \n",
      "dtypes: float64(1), int64(3), string(2)\n",
      "memory usage: 649.9 MB\n"
     ]
    }
   ],
   "source": [
    "df.info()"
   ]
  },
  {
   "cell_type": "code",
   "execution_count": 10,
   "metadata": {},
   "outputs": [
    {
     "data": {
      "text/plain": [
       "object_code\n",
       "1.1      [1.1]\n",
       "1.2      [1.2]\n",
       "1.3      [1.3]\n",
       "1.4      [1.4]\n",
       "1.6      [1.6]\n",
       "         ...  \n",
       "96.0    [96.0]\n",
       "97.0    [97.0]\n",
       "98.1    [98.1]\n",
       "98.2    [98.2]\n",
       "99.0    [99.0]\n",
       "Name: object_code, Length: 272, dtype: object"
      ]
     },
     "execution_count": 10,
     "metadata": {},
     "output_type": "execute_result"
    }
   ],
   "source": [
    "grouped_data = df.groupby('object_code')['object_code'].unique()\n",
    "grouped_data"
   ]
  },
  {
   "cell_type": "markdown",
   "metadata": {},
   "source": [
    "По ОКПД-2 контракты в общем случае должны разделяться так:\n",
    "\n",
    "0. Прочие\n",
    "1. Строительно-монтажные работы (СМР) - 41, 42, 43(кроме нижеперечисленных)\n",
    "2. Проектно-изыскательские работы (ПИР) - 41.1, 71.1\n",
    "3. Подключение коммуникаций - 43.22\n",
    "4. Строительный надзор – четкой группы нет. \n",
    "\n",
    "Строительный надзор - (43.9, 42.9, 42.2) - получил на основе ручного анализа данных. Лучше всего воспользоваться специалистом в этой предметной области.\n"
   ]
  },
  {
   "cell_type": "code",
   "execution_count": 11,
   "metadata": {},
   "outputs": [],
   "source": [
    "query = '''object_code.str.contains(\"41.\") or object_code.str.contains(\"42.\") or object_code.str.contains(\"43.\") or object_code == \"71.1\" '''\n",
    "df = df.query(query, engine='python')"
   ]
  },
  {
   "cell_type": "code",
   "execution_count": 12,
   "metadata": {},
   "outputs": [
    {
     "data": {
      "text/html": [
       "<div>\n",
       "<style scoped>\n",
       "    .dataframe tbody tr th:only-of-type {\n",
       "        vertical-align: middle;\n",
       "    }\n",
       "\n",
       "    .dataframe tbody tr th {\n",
       "        vertical-align: top;\n",
       "    }\n",
       "\n",
       "    .dataframe thead th {\n",
       "        text-align: right;\n",
       "    }\n",
       "</style>\n",
       "<table border=\"1\" class=\"dataframe\">\n",
       "  <thead>\n",
       "    <tr style=\"text-align: right;\">\n",
       "      <th></th>\n",
       "      <th>id</th>\n",
       "      <th>contract_number</th>\n",
       "      <th>cost</th>\n",
       "      <th>contract_execution_days</th>\n",
       "    </tr>\n",
       "  </thead>\n",
       "  <tbody>\n",
       "    <tr>\n",
       "      <th>count</th>\n",
       "      <td>1.077891e+06</td>\n",
       "      <td>1.077891e+06</td>\n",
       "      <td>1.077891e+06</td>\n",
       "      <td>1.077891e+06</td>\n",
       "    </tr>\n",
       "    <tr>\n",
       "      <th>mean</th>\n",
       "      <td>1.567699e+07</td>\n",
       "      <td>3.027632e+18</td>\n",
       "      <td>1.252777e+07</td>\n",
       "      <td>1.657274e+02</td>\n",
       "    </tr>\n",
       "    <tr>\n",
       "      <th>std</th>\n",
       "      <td>1.027531e+07</td>\n",
       "      <td>6.623508e+17</td>\n",
       "      <td>3.005228e+08</td>\n",
       "      <td>1.649801e+02</td>\n",
       "    </tr>\n",
       "    <tr>\n",
       "      <th>min</th>\n",
       "      <td>1.374390e+05</td>\n",
       "      <td>3.403001e+17</td>\n",
       "      <td>1.000000e-02</td>\n",
       "      <td>1.000000e+00</td>\n",
       "    </tr>\n",
       "    <tr>\n",
       "      <th>25%</th>\n",
       "      <td>7.038131e+06</td>\n",
       "      <td>2.770541e+18</td>\n",
       "      <td>2.309079e+05</td>\n",
       "      <td>6.300000e+01</td>\n",
       "    </tr>\n",
       "    <tr>\n",
       "      <th>50%</th>\n",
       "      <td>1.441286e+07</td>\n",
       "      <td>3.240700e+18</td>\n",
       "      <td>7.909571e+05</td>\n",
       "      <td>1.210000e+02</td>\n",
       "    </tr>\n",
       "    <tr>\n",
       "      <th>75%</th>\n",
       "      <td>2.204623e+07</td>\n",
       "      <td>3.504506e+18</td>\n",
       "      <td>2.522650e+06</td>\n",
       "      <td>2.140000e+02</td>\n",
       "    </tr>\n",
       "    <tr>\n",
       "      <th>max</th>\n",
       "      <td>3.509656e+07</td>\n",
       "      <td>4.920456e+18</td>\n",
       "      <td>1.425579e+11</td>\n",
       "      <td>2.000000e+03</td>\n",
       "    </tr>\n",
       "  </tbody>\n",
       "</table>\n",
       "</div>"
      ],
      "text/plain": [
       "                 id  contract_number          cost  contract_execution_days\n",
       "count  1.077891e+06     1.077891e+06  1.077891e+06             1.077891e+06\n",
       "mean   1.567699e+07     3.027632e+18  1.252777e+07             1.657274e+02\n",
       "std    1.027531e+07     6.623508e+17  3.005228e+08             1.649801e+02\n",
       "min    1.374390e+05     3.403001e+17  1.000000e-02             1.000000e+00\n",
       "25%    7.038131e+06     2.770541e+18  2.309079e+05             6.300000e+01\n",
       "50%    1.441286e+07     3.240700e+18  7.909571e+05             1.210000e+02\n",
       "75%    2.204623e+07     3.504506e+18  2.522650e+06             2.140000e+02\n",
       "max    3.509656e+07     4.920456e+18  1.425579e+11             2.000000e+03"
      ]
     },
     "execution_count": 12,
     "metadata": {},
     "output_type": "execute_result"
    }
   ],
   "source": [
    "df.describe()"
   ]
  },
  {
   "cell_type": "markdown",
   "metadata": {},
   "source": [
    "Очистим описания услуг от латинских символов и чисел для дальнейшего анализа данных."
   ]
  },
  {
   "cell_type": "code",
   "execution_count": 13,
   "metadata": {},
   "outputs": [],
   "source": [
    "def clear_text(text):\n",
    "    lst = [char for char in text if 1039 < ord(text[0])]\n",
    "    return ''.join(lst)"
   ]
  },
  {
   "cell_type": "code",
   "execution_count": 14,
   "metadata": {},
   "outputs": [],
   "source": [
    "df['object_name'] = df['object_name'].apply(lambda x: clear_text(x))\n",
    "df = df[df[\"object_name\"] != \"\"]"
   ]
  },
  {
   "cell_type": "code",
   "execution_count": 15,
   "metadata": {},
   "outputs": [
    {
     "data": {
      "text/html": [
       "<div>\n",
       "<style scoped>\n",
       "    .dataframe tbody tr th:only-of-type {\n",
       "        vertical-align: middle;\n",
       "    }\n",
       "\n",
       "    .dataframe tbody tr th {\n",
       "        vertical-align: top;\n",
       "    }\n",
       "\n",
       "    .dataframe thead th {\n",
       "        text-align: right;\n",
       "    }\n",
       "</style>\n",
       "<table border=\"1\" class=\"dataframe\">\n",
       "  <thead>\n",
       "    <tr style=\"text-align: right;\">\n",
       "      <th></th>\n",
       "      <th>id</th>\n",
       "      <th>contract_number</th>\n",
       "      <th>cost</th>\n",
       "      <th>contract_execution_days</th>\n",
       "    </tr>\n",
       "  </thead>\n",
       "  <tbody>\n",
       "    <tr>\n",
       "      <th>count</th>\n",
       "      <td>9.001530e+05</td>\n",
       "      <td>9.001530e+05</td>\n",
       "      <td>9.001530e+05</td>\n",
       "      <td>900153.000000</td>\n",
       "    </tr>\n",
       "    <tr>\n",
       "      <th>mean</th>\n",
       "      <td>1.215062e+07</td>\n",
       "      <td>3.044760e+18</td>\n",
       "      <td>7.050218e+06</td>\n",
       "      <td>153.150148</td>\n",
       "    </tr>\n",
       "    <tr>\n",
       "      <th>std</th>\n",
       "      <td>7.133365e+06</td>\n",
       "      <td>6.505005e+17</td>\n",
       "      <td>1.685426e+08</td>\n",
       "      <td>146.767441</td>\n",
       "    </tr>\n",
       "    <tr>\n",
       "      <th>min</th>\n",
       "      <td>1.374390e+05</td>\n",
       "      <td>3.403001e+17</td>\n",
       "      <td>1.000000e-02</td>\n",
       "      <td>1.000000</td>\n",
       "    </tr>\n",
       "    <tr>\n",
       "      <th>25%</th>\n",
       "      <td>5.810018e+06</td>\n",
       "      <td>2.771570e+18</td>\n",
       "      <td>2.092741e+05</td>\n",
       "      <td>59.000000</td>\n",
       "    </tr>\n",
       "    <tr>\n",
       "      <th>50%</th>\n",
       "      <td>1.190011e+07</td>\n",
       "      <td>3.244301e+18</td>\n",
       "      <td>6.920000e+05</td>\n",
       "      <td>112.000000</td>\n",
       "    </tr>\n",
       "    <tr>\n",
       "      <th>75%</th>\n",
       "      <td>1.811065e+07</td>\n",
       "      <td>3.504601e+18</td>\n",
       "      <td>2.161987e+06</td>\n",
       "      <td>203.000000</td>\n",
       "    </tr>\n",
       "    <tr>\n",
       "      <th>max</th>\n",
       "      <td>2.719647e+07</td>\n",
       "      <td>4.920456e+18</td>\n",
       "      <td>1.387754e+11</td>\n",
       "      <td>2000.000000</td>\n",
       "    </tr>\n",
       "  </tbody>\n",
       "</table>\n",
       "</div>"
      ],
      "text/plain": [
       "                 id  contract_number          cost  contract_execution_days\n",
       "count  9.001530e+05     9.001530e+05  9.001530e+05            900153.000000\n",
       "mean   1.215062e+07     3.044760e+18  7.050218e+06               153.150148\n",
       "std    7.133365e+06     6.505005e+17  1.685426e+08               146.767441\n",
       "min    1.374390e+05     3.403001e+17  1.000000e-02                 1.000000\n",
       "25%    5.810018e+06     2.771570e+18  2.092741e+05                59.000000\n",
       "50%    1.190011e+07     3.244301e+18  6.920000e+05               112.000000\n",
       "75%    1.811065e+07     3.504601e+18  2.161987e+06               203.000000\n",
       "max    2.719647e+07     4.920456e+18  1.387754e+11              2000.000000"
      ]
     },
     "execution_count": 15,
     "metadata": {},
     "output_type": "execute_result"
    }
   ],
   "source": [
    "df.describe()"
   ]
  },
  {
   "cell_type": "code",
   "execution_count": 16,
   "metadata": {},
   "outputs": [],
   "source": [
    "df.to_csv('datasets/dataset_filter.csv', sep=';', index=False)"
   ]
  },
  {
   "cell_type": "markdown",
   "metadata": {},
   "source": [
    "# NLP анализ"
   ]
  },
  {
   "cell_type": "markdown",
   "metadata": {},
   "source": [
    "### Разбираем строки на токены, лематизируем и очищаем от шума (от стослов и знаков пунктуации)"
   ]
  },
  {
   "cell_type": "code",
   "execution_count": 17,
   "metadata": {},
   "outputs": [
    {
     "name": "stderr",
     "output_type": "stream",
     "text": [
      "[nltk_data] Downloading package punkt to\n",
      "[nltk_data]     C:\\Users\\head\\AppData\\Roaming\\nltk_data...\n",
      "[nltk_data]   Package punkt is already up-to-date!\n",
      "[nltk_data] Downloading package wordnet to\n",
      "[nltk_data]     C:\\Users\\head\\AppData\\Roaming\\nltk_data...\n",
      "[nltk_data]   Package wordnet is already up-to-date!\n",
      "[nltk_data] Downloading package omw-1.4 to\n",
      "[nltk_data]     C:\\Users\\head\\AppData\\Roaming\\nltk_data...\n",
      "[nltk_data]   Package omw-1.4 is already up-to-date!\n",
      "[nltk_data] Downloading package averaged_perceptron_tagger to\n",
      "[nltk_data]     C:\\Users\\head\\AppData\\Roaming\\nltk_data...\n",
      "[nltk_data]   Package averaged_perceptron_tagger is already up-to-\n",
      "[nltk_data]       date!\n",
      "[nltk_data] Downloading package stopwords to\n",
      "[nltk_data]     C:\\Users\\head\\AppData\\Roaming\\nltk_data...\n",
      "[nltk_data]   Package stopwords is already up-to-date!\n"
     ]
    },
    {
     "data": {
      "text/plain": [
       "True"
      ]
     },
     "execution_count": 17,
     "metadata": {},
     "output_type": "execute_result"
    }
   ],
   "source": [
    "#Получим стоп слова русского языка\n",
    "import nltk\n",
    "#nltk.download()\n",
    "nltk.download('punkt')\n",
    "nltk.download('wordnet')\n",
    "nltk.download('omw-1.4')\n",
    "nltk.download('averaged_perceptron_tagger')\n",
    "nltk.download('stopwords')"
   ]
  },
  {
   "cell_type": "code",
   "execution_count": 18,
   "metadata": {},
   "outputs": [
    {
     "name": "stderr",
     "output_type": "stream",
     "text": [
      "C:\\Users\\head\\AppData\\Local\\Temp\\ipykernel_23728\\3407045905.py:44: FutureWarning: Setting an item of incompatible dtype is deprecated and will raise in a future error of pandas. Value '['работ', 'строительн', 'специализирова']' has dtype incompatible with float64, please explicitly cast to a compatible dtype first.\n",
      "  self.df.loc[index, \"data_final\"] = str(final_words)\n"
     ]
    },
    {
     "data": {
      "text/html": [
       "<div>\n",
       "<style scoped>\n",
       "    .dataframe tbody tr th:only-of-type {\n",
       "        vertical-align: middle;\n",
       "    }\n",
       "\n",
       "    .dataframe tbody tr th {\n",
       "        vertical-align: top;\n",
       "    }\n",
       "\n",
       "    .dataframe thead th {\n",
       "        text-align: right;\n",
       "    }\n",
       "</style>\n",
       "<table border=\"1\" class=\"dataframe\">\n",
       "  <thead>\n",
       "    <tr style=\"text-align: right;\">\n",
       "      <th></th>\n",
       "      <th>id</th>\n",
       "      <th>contract_number</th>\n",
       "      <th>object_name</th>\n",
       "      <th>object_code</th>\n",
       "      <th>cost</th>\n",
       "      <th>contract_execution_days</th>\n",
       "      <th>data</th>\n",
       "      <th>data_final</th>\n",
       "    </tr>\n",
       "  </thead>\n",
       "  <tbody>\n",
       "    <tr>\n",
       "      <th>68</th>\n",
       "      <td>137439</td>\n",
       "      <td>2590407717221000153</td>\n",
       "      <td>Работы строительные специализированные</td>\n",
       "      <td>43.9</td>\n",
       "      <td>5.392656e+05</td>\n",
       "      <td>29</td>\n",
       "      <td>[работы, строительные, специализированные]</td>\n",
       "      <td>['работ', 'строительн', 'специализирова']</td>\n",
       "    </tr>\n",
       "    <tr>\n",
       "      <th>122</th>\n",
       "      <td>137528</td>\n",
       "      <td>2590421285821000134</td>\n",
       "      <td>Работы строительные специализированные</td>\n",
       "      <td>43.9</td>\n",
       "      <td>2.299470e+06</td>\n",
       "      <td>122</td>\n",
       "      <td>[работы, строительные, специализированные]</td>\n",
       "      <td>['работ', 'строительн', 'специализирова']</td>\n",
       "    </tr>\n",
       "    <tr>\n",
       "      <th>123</th>\n",
       "      <td>137529</td>\n",
       "      <td>2590421285821000135</td>\n",
       "      <td>Работы строительные специализированные</td>\n",
       "      <td>43.9</td>\n",
       "      <td>1.898112e+06</td>\n",
       "      <td>122</td>\n",
       "      <td>[работы, строительные, специализированные]</td>\n",
       "      <td>['работ', 'строительн', 'специализирова']</td>\n",
       "    </tr>\n",
       "    <tr>\n",
       "      <th>304</th>\n",
       "      <td>137827</td>\n",
       "      <td>2590500335021000676</td>\n",
       "      <td>Работы строительные специализированные</td>\n",
       "      <td>43.3</td>\n",
       "      <td>3.419140e+05</td>\n",
       "      <td>199</td>\n",
       "      <td>[работы, строительные, специализированные]</td>\n",
       "      <td>['работ', 'строительн', 'специализирова']</td>\n",
       "    </tr>\n",
       "    <tr>\n",
       "      <th>452</th>\n",
       "      <td>138113</td>\n",
       "      <td>2590615606021000060</td>\n",
       "      <td>Услуги в области архитектуры и инженерно-техни...</td>\n",
       "      <td>71.1</td>\n",
       "      <td>1.714352e+06</td>\n",
       "      <td>383</td>\n",
       "      <td>[услуги, в, области, архитектуры, и, инженерно...</td>\n",
       "      <td>['услуг', 'област', 'архитектур', 'проектирова...</td>\n",
       "    </tr>\n",
       "    <tr>\n",
       "      <th>...</th>\n",
       "      <td>...</td>\n",
       "      <td>...</td>\n",
       "      <td>...</td>\n",
       "      <td>...</td>\n",
       "      <td>...</td>\n",
       "      <td>...</td>\n",
       "      <td>...</td>\n",
       "      <td>...</td>\n",
       "    </tr>\n",
       "    <tr>\n",
       "      <th>12256223</th>\n",
       "      <td>27196374</td>\n",
       "      <td>3860104675919000035</td>\n",
       "      <td>Работы строительные специализированные</td>\n",
       "      <td>43.3</td>\n",
       "      <td>1.873113e+06</td>\n",
       "      <td>211</td>\n",
       "      <td>[работы, строительные, специализированные]</td>\n",
       "      <td>['работ', 'строительн', 'специализирова']</td>\n",
       "    </tr>\n",
       "    <tr>\n",
       "      <th>12256284</th>\n",
       "      <td>27196459</td>\n",
       "      <td>3860200041119000073</td>\n",
       "      <td>Сооружения и строительные работы в области гра...</td>\n",
       "      <td>42.1</td>\n",
       "      <td>1.430199e+08</td>\n",
       "      <td>374</td>\n",
       "      <td>[сооружения, и, строительные, работы, в, облас...</td>\n",
       "      <td>['сооружен', 'строительн', 'работ', 'област', ...</td>\n",
       "    </tr>\n",
       "    <tr>\n",
       "      <th>12256285</th>\n",
       "      <td>27196462</td>\n",
       "      <td>3860200041119000074</td>\n",
       "      <td>Сооружения и строительные работы в области гра...</td>\n",
       "      <td>42.1</td>\n",
       "      <td>1.161912e+08</td>\n",
       "      <td>374</td>\n",
       "      <td>[сооружения, и, строительные, работы, в, облас...</td>\n",
       "      <td>['сооружен', 'строительн', 'работ', 'област', ...</td>\n",
       "    </tr>\n",
       "    <tr>\n",
       "      <th>12256286</th>\n",
       "      <td>27196466</td>\n",
       "      <td>3860200041119000075</td>\n",
       "      <td>Сооружения и строительные работы в области гра...</td>\n",
       "      <td>42.1</td>\n",
       "      <td>7.774969e+07</td>\n",
       "      <td>738</td>\n",
       "      <td>[сооружения, и, строительные, работы, в, облас...</td>\n",
       "      <td>['сооружен', 'строительн', 'работ', 'област', ...</td>\n",
       "    </tr>\n",
       "    <tr>\n",
       "      <th>12256287</th>\n",
       "      <td>27196469</td>\n",
       "      <td>3860200041119000076</td>\n",
       "      <td>Сооружения и строительные работы в области гра...</td>\n",
       "      <td>42.1</td>\n",
       "      <td>6.798035e+07</td>\n",
       "      <td>373</td>\n",
       "      <td>[сооружения, и, строительные, работы, в, облас...</td>\n",
       "      <td>['сооружен', 'строительн', 'работ', 'област', ...</td>\n",
       "    </tr>\n",
       "  </tbody>\n",
       "</table>\n",
       "<p>900153 rows × 8 columns</p>\n",
       "</div>"
      ],
      "text/plain": [
       "                id      contract_number  \\\n",
       "68          137439  2590407717221000153   \n",
       "122         137528  2590421285821000134   \n",
       "123         137529  2590421285821000135   \n",
       "304         137827  2590500335021000676   \n",
       "452         138113  2590615606021000060   \n",
       "...            ...                  ...   \n",
       "12256223  27196374  3860104675919000035   \n",
       "12256284  27196459  3860200041119000073   \n",
       "12256285  27196462  3860200041119000074   \n",
       "12256286  27196466  3860200041119000075   \n",
       "12256287  27196469  3860200041119000076   \n",
       "\n",
       "                                                object_name object_code  \\\n",
       "68                   Работы строительные специализированные        43.9   \n",
       "122                  Работы строительные специализированные        43.9   \n",
       "123                  Работы строительные специализированные        43.9   \n",
       "304                  Работы строительные специализированные        43.3   \n",
       "452       Услуги в области архитектуры и инженерно-техни...        71.1   \n",
       "...                                                     ...         ...   \n",
       "12256223             Работы строительные специализированные        43.3   \n",
       "12256284  Сооружения и строительные работы в области гра...        42.1   \n",
       "12256285  Сооружения и строительные работы в области гра...        42.1   \n",
       "12256286  Сооружения и строительные работы в области гра...        42.1   \n",
       "12256287  Сооружения и строительные работы в области гра...        42.1   \n",
       "\n",
       "                  cost  contract_execution_days  \\\n",
       "68        5.392656e+05                       29   \n",
       "122       2.299470e+06                      122   \n",
       "123       1.898112e+06                      122   \n",
       "304       3.419140e+05                      199   \n",
       "452       1.714352e+06                      383   \n",
       "...                ...                      ...   \n",
       "12256223  1.873113e+06                      211   \n",
       "12256284  1.430199e+08                      374   \n",
       "12256285  1.161912e+08                      374   \n",
       "12256286  7.774969e+07                      738   \n",
       "12256287  6.798035e+07                      373   \n",
       "\n",
       "                                                       data  \\\n",
       "68               [работы, строительные, специализированные]   \n",
       "122              [работы, строительные, специализированные]   \n",
       "123              [работы, строительные, специализированные]   \n",
       "304              [работы, строительные, специализированные]   \n",
       "452       [услуги, в, области, архитектуры, и, инженерно...   \n",
       "...                                                     ...   \n",
       "12256223         [работы, строительные, специализированные]   \n",
       "12256284  [сооружения, и, строительные, работы, в, облас...   \n",
       "12256285  [сооружения, и, строительные, работы, в, облас...   \n",
       "12256286  [сооружения, и, строительные, работы, в, облас...   \n",
       "12256287  [сооружения, и, строительные, работы, в, облас...   \n",
       "\n",
       "                                                 data_final  \n",
       "68                ['работ', 'строительн', 'специализирова']  \n",
       "122               ['работ', 'строительн', 'специализирова']  \n",
       "123               ['работ', 'строительн', 'специализирова']  \n",
       "304               ['работ', 'строительн', 'специализирова']  \n",
       "452       ['услуг', 'област', 'архитектур', 'проектирова...  \n",
       "...                                                     ...  \n",
       "12256223          ['работ', 'строительн', 'специализирова']  \n",
       "12256284  ['сооружен', 'строительн', 'работ', 'област', ...  \n",
       "12256285  ['сооружен', 'строительн', 'работ', 'област', ...  \n",
       "12256286  ['сооружен', 'строительн', 'работ', 'област', ...  \n",
       "12256287  ['сооружен', 'строительн', 'работ', 'област', ...  \n",
       "\n",
       "[900153 rows x 8 columns]"
      ]
     },
     "execution_count": 18,
     "metadata": {},
     "output_type": "execute_result"
    }
   ],
   "source": [
    "from nltk import download\n",
    "from nltk.tokenize import word_tokenize\n",
    "from nltk import pos_tag\n",
    "from nltk.corpus import stopwords\n",
    "from nltk.stem import WordNetLemmatizer\n",
    "from collections import defaultdict, Counter\n",
    "from nltk.corpus import wordnet as wn  # Проверить необходимость\n",
    "from nltk.corpus import stopwords\n",
    "\n",
    "#print(stopwords.words('russian'))\n",
    "\n",
    "tag_map = defaultdict(lambda : wn.NOUN)\n",
    "tag_map['J'] = wn.ADJ\n",
    "tag_map['V'] = wn.VERB\n",
    "tag_map['R'] = wn.ADV\n",
    "\n",
    "stemmer = nltk.stem.snowball.RussianStemmer()\n",
    "word_lemmatized = WordNetLemmatizer()\n",
    "\n",
    "\n",
    "class NLP:\n",
    "  \n",
    "  def __init__(self, __df):\n",
    "     self.df = __df\n",
    "\n",
    "  def tokening(self):\n",
    "     self.df['data'] =  [word_tokenize(entry.lower()) for entry in self.df['object_name']]\n",
    "\n",
    "  def lammatize(self, word, tag):\n",
    "     return word_lemmatized.lemmatize(word, tag_map[tag])\n",
    "\n",
    "  def steming(self, word_final):\n",
    "     return stemmer.stem(word_final)\n",
    "\n",
    "  def fit(self): \n",
    "    self.tokening()\n",
    "    for index, entry in zip(self.df[\"data\"].index, self.df['data']):\n",
    "        final_words = []\n",
    "        for word, tag in pos_tag(entry):\n",
    "            if word not in stopwords.words(\"russian\") and word.isalpha():\n",
    "                word_final = self.lammatize(word, tag[0])\n",
    "                word_final = self.steming(word_final)\n",
    "                final_words.append(word_final)\n",
    "        self.df.loc[index, \"data_final\"] = str(final_words)\n",
    "    return self.df\n",
    "\n",
    "nlp = NLP(df)\n",
    "vectors = nlp.fit()\n",
    "vectors\n"
   ]
  },
  {
   "cell_type": "code",
   "execution_count": 19,
   "metadata": {},
   "outputs": [],
   "source": [
    "vectors.to_csv('datasets/dataset_nlp.csv', sep=';', index=False)"
   ]
  }
 ],
 "metadata": {
  "kernelspec": {
   "display_name": "Python 3",
   "language": "python",
   "name": "python3"
  },
  "language_info": {
   "codemirror_mode": {
    "name": "ipython",
    "version": 3
   },
   "file_extension": ".py",
   "mimetype": "text/x-python",
   "name": "python",
   "nbconvert_exporter": "python",
   "pygments_lexer": "ipython3",
   "version": "3.11.5"
  }
 },
 "nbformat": 4,
 "nbformat_minor": 2
}
