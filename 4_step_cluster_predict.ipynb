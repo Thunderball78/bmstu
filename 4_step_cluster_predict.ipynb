{
 "cells": [
  {
   "cell_type": "markdown",
   "metadata": {},
   "source": [
    "### Итоговая работа\n",
    "### 12448/1 ИНЖДАН МГТУ им. Н.Э. Баумана\n",
    "### Инженер данных (Data engineer)\n",
    "### Андреев Андрей Анатольевич"
   ]
  },
  {
   "cell_type": "markdown",
   "metadata": {},
   "source": [
    "## КЛАССИФИКАЦИЯ ГОСКОНТРАКТОВ ПО ОБЪЕКТАМ ЗАКУПКИ\n",
    "\n",
    "#### Задача: необходимо на основе данных с ftp.zakupki.gov.ru научиться определять группу, к которой относится контракт с кодом ОКПД-2 41, 42, 43, 71.1.\n",
    "\n",
    "Группы могут быть следующими:\n",
    "\n",
    "1.\tСтроительно-монтажные работы (СМР)\n",
    "2.\tПроектно-изыскательские работы (ПИР)\n",
    "3.\tСтроительный надзор\n",
    "4.\tПодключение коммуникаций\n",
    "5.\tПрочее.\n",
    "\n",
    "По ОКПД-2 контракты в общем случае должны разделяться так:\n",
    "- Строительно-монтажные работы (СМР) - 41, 42, 43(кроме нижеперечисленных)\n",
    "- Проектно-изыскательские работы (ПИР) - 41.1, 71.1\n",
    "- Подключение коммуникаций - 43.22\n",
    "- Строительный надзор – четкой группы нет.\n",
    "\n",
    "\n",
    "Проблема: Далеко не всегда контракты указываются с нужным кодом, поэтому есть проблема как такие контракты \"отловить\" и определить в нужную группу.\n",
    "\n",
    "Поэтому задача предполагает классификацию контрактов на основе объекта закупки, который сформулирован естественным языком. Также предполагаем, что могут иметь значение цена контракта и его длительность.\n",
    "На основе этого на входе данные о контрактах. На выходе необходимо получить группу для каждого контракта.\n",
    "\n",
    "Иногда контракт может относиться одновременно в несколько групп.\n",
    "\n",
    "В приложении ниже пример нескольких контрактов, у которых неверно проставлен ОКПД-2."
   ]
  },
  {
   "cell_type": "markdown",
   "metadata": {},
   "source": [
    "# Шаг 4 - Построение модели классификатора"
   ]
  },
  {
   "cell_type": "code",
   "execution_count": 97,
   "metadata": {},
   "outputs": [
    {
     "name": "stdout",
     "output_type": "stream",
     "text": [
      "Requirement already satisfied: scikit-learn in c:\\python311\\lib\\site-packages (1.3.1)\n",
      "Requirement already satisfied: numpy<2.0,>=1.17.3 in c:\\python311\\lib\\site-packages (from scikit-learn) (1.26.0)\n",
      "Requirement already satisfied: scipy>=1.5.0 in c:\\python311\\lib\\site-packages (from scikit-learn) (1.11.3)\n",
      "Requirement already satisfied: joblib>=1.1.1 in c:\\python311\\lib\\site-packages (from scikit-learn) (1.3.2)\n",
      "Requirement already satisfied: threadpoolctl>=2.0.0 in c:\\python311\\lib\\site-packages (from scikit-learn) (3.2.0)\n"
     ]
    },
    {
     "name": "stderr",
     "output_type": "stream",
     "text": [
      "\n",
      "[notice] A new release of pip is available: 23.2.1 -> 23.3.1\n",
      "[notice] To update, run: python.exe -m pip install --upgrade pip\n"
     ]
    },
    {
     "name": "stdout",
     "output_type": "stream",
     "text": [
      "Requirement already satisfied: nltk in c:\\python311\\lib\\site-packages (3.8.1)\n",
      "Requirement already satisfied: click in c:\\python311\\lib\\site-packages (from nltk) (8.1.7)\n",
      "Requirement already satisfied: joblib in c:\\python311\\lib\\site-packages (from nltk) (1.3.2)\n",
      "Requirement already satisfied: regex>=2021.8.3 in c:\\python311\\lib\\site-packages (from nltk) (2023.10.3)\n",
      "Requirement already satisfied: tqdm in c:\\python311\\lib\\site-packages (from nltk) (4.66.1)\n",
      "Requirement already satisfied: colorama in c:\\users\\head\\appdata\\roaming\\python\\python311\\site-packages (from click->nltk) (0.4.6)\n"
     ]
    },
    {
     "name": "stderr",
     "output_type": "stream",
     "text": [
      "\n",
      "[notice] A new release of pip is available: 23.2.1 -> 23.3.1\n",
      "[notice] To update, run: python.exe -m pip install --upgrade pip\n"
     ]
    },
    {
     "name": "stdout",
     "output_type": "stream",
     "text": [
      "Requirement already satisfied: requests in c:\\python311\\lib\\site-packages (2.31.0)\n",
      "Requirement already satisfied: charset-normalizer<4,>=2 in c:\\python311\\lib\\site-packages (from requests) (3.3.0)\n",
      "Requirement already satisfied: idna<4,>=2.5 in c:\\python311\\lib\\site-packages (from requests) (3.4)\n",
      "Requirement already satisfied: urllib3<3,>=1.21.1 in c:\\python311\\lib\\site-packages (from requests) (2.0.6)\n",
      "Requirement already satisfied: certifi>=2017.4.17 in c:\\python311\\lib\\site-packages (from requests) (2023.7.22)\n"
     ]
    },
    {
     "name": "stderr",
     "output_type": "stream",
     "text": [
      "\n",
      "[notice] A new release of pip is available: 23.2.1 -> 23.3.1\n",
      "[notice] To update, run: python.exe -m pip install --upgrade pip\n"
     ]
    },
    {
     "name": "stdout",
     "output_type": "stream",
     "text": [
      "Requirement already satisfied: matplotlib in c:\\python311\\lib\\site-packages (3.8.0)\n",
      "Requirement already satisfied: contourpy>=1.0.1 in c:\\python311\\lib\\site-packages (from matplotlib) (1.1.1)\n",
      "Requirement already satisfied: cycler>=0.10 in c:\\python311\\lib\\site-packages (from matplotlib) (0.12.1)\n",
      "Requirement already satisfied: fonttools>=4.22.0 in c:\\python311\\lib\\site-packages (from matplotlib) (4.43.1)\n",
      "Requirement already satisfied: kiwisolver>=1.0.1 in c:\\python311\\lib\\site-packages (from matplotlib) (1.4.5)\n",
      "Requirement already satisfied: numpy<2,>=1.21 in c:\\python311\\lib\\site-packages (from matplotlib) (1.26.0)\n",
      "Requirement already satisfied: packaging>=20.0 in c:\\users\\head\\appdata\\roaming\\python\\python311\\site-packages (from matplotlib) (23.2)\n",
      "Requirement already satisfied: pillow>=6.2.0 in c:\\python311\\lib\\site-packages (from matplotlib) (10.1.0)\n",
      "Requirement already satisfied: pyparsing>=2.3.1 in c:\\python311\\lib\\site-packages (from matplotlib) (3.1.1)\n",
      "Requirement already satisfied: python-dateutil>=2.7 in c:\\users\\head\\appdata\\roaming\\python\\python311\\site-packages (from matplotlib) (2.8.2)\n",
      "Requirement already satisfied: six>=1.5 in c:\\users\\head\\appdata\\roaming\\python\\python311\\site-packages (from python-dateutil>=2.7->matplotlib) (1.16.0)\n"
     ]
    },
    {
     "name": "stderr",
     "output_type": "stream",
     "text": [
      "\n",
      "[notice] A new release of pip is available: 23.2.1 -> 23.3.1\n",
      "[notice] To update, run: python.exe -m pip install --upgrade pip\n"
     ]
    }
   ],
   "source": [
    "! pip install scikit-learn\n",
    "! pip install nltk\n",
    "#! pip install pymorphy2\n",
    "! pip install requests\n",
    "#! pip install gensim\n",
    "#! pip install pymystem3\n",
    "! pip install matplotlib"
   ]
  },
  {
   "cell_type": "code",
   "execution_count": 98,
   "metadata": {},
   "outputs": [],
   "source": [
    "import pandas as pd\n",
    "import numpy as np\n",
    "import warnings\n",
    "warnings.filterwarnings('ignore')"
   ]
  },
  {
   "cell_type": "code",
   "execution_count": 99,
   "metadata": {},
   "outputs": [],
   "source": [
    "columns = ['object_name', 'object_code', 'cost', 'contract_execution_days']\n",
    "dtypes = {'object_name': str,\n",
    "          'object_code': str, \n",
    "          'cost':lambda x: pd.to_numeric(x, errors=\"coerce\"), \n",
    "          'contract_execution_days': lambda x: pd.to_numeric(x, errors=\"coerce\"),\n",
    "          'cluster': int}"
   ]
  },
  {
   "cell_type": "code",
   "execution_count": 100,
   "metadata": {},
   "outputs": [
    {
     "data": {
      "text/plain": [
       "(900153, 9)"
      ]
     },
     "execution_count": 100,
     "metadata": {},
     "output_type": "execute_result"
    }
   ],
   "source": [
    "df = pd.read_csv('datasets/dataset_nlp.csv', sep=';', low_memory=False, on_bad_lines='skip')\n",
    "df['object_name']  = df['object_name'].astype('string')\n",
    "df['object_code']  = df['object_code'].astype('string')\n",
    "df['price_per_day'] = df['cost'] / df['contract_execution_days']\n",
    "df.shape"
   ]
  },
  {
   "cell_type": "code",
   "execution_count": 101,
   "metadata": {},
   "outputs": [
    {
     "data": {
      "text/html": [
       "<div>\n",
       "<style scoped>\n",
       "    .dataframe tbody tr th:only-of-type {\n",
       "        vertical-align: middle;\n",
       "    }\n",
       "\n",
       "    .dataframe tbody tr th {\n",
       "        vertical-align: top;\n",
       "    }\n",
       "\n",
       "    .dataframe thead th {\n",
       "        text-align: right;\n",
       "    }\n",
       "</style>\n",
       "<table border=\"1\" class=\"dataframe\">\n",
       "  <thead>\n",
       "    <tr style=\"text-align: right;\">\n",
       "      <th></th>\n",
       "      <th>id</th>\n",
       "      <th>contract_number</th>\n",
       "      <th>cost</th>\n",
       "      <th>contract_execution_days</th>\n",
       "      <th>price_per_day</th>\n",
       "    </tr>\n",
       "  </thead>\n",
       "  <tbody>\n",
       "    <tr>\n",
       "      <th>count</th>\n",
       "      <td>9.001530e+05</td>\n",
       "      <td>9.001530e+05</td>\n",
       "      <td>9.001530e+05</td>\n",
       "      <td>900153.000000</td>\n",
       "      <td>9.001530e+05</td>\n",
       "    </tr>\n",
       "    <tr>\n",
       "      <th>mean</th>\n",
       "      <td>1.215062e+07</td>\n",
       "      <td>3.044760e+18</td>\n",
       "      <td>7.050218e+06</td>\n",
       "      <td>153.150148</td>\n",
       "      <td>4.646881e+04</td>\n",
       "    </tr>\n",
       "    <tr>\n",
       "      <th>std</th>\n",
       "      <td>7.133365e+06</td>\n",
       "      <td>6.505005e+17</td>\n",
       "      <td>1.685426e+08</td>\n",
       "      <td>146.767441</td>\n",
       "      <td>5.455776e+05</td>\n",
       "    </tr>\n",
       "    <tr>\n",
       "      <th>min</th>\n",
       "      <td>1.374390e+05</td>\n",
       "      <td>3.403001e+17</td>\n",
       "      <td>1.000000e-02</td>\n",
       "      <td>1.000000</td>\n",
       "      <td>1.024590e-05</td>\n",
       "    </tr>\n",
       "    <tr>\n",
       "      <th>25%</th>\n",
       "      <td>5.810018e+06</td>\n",
       "      <td>2.771570e+18</td>\n",
       "      <td>2.092741e+05</td>\n",
       "      <td>59.000000</td>\n",
       "      <td>2.055556e+03</td>\n",
       "    </tr>\n",
       "    <tr>\n",
       "      <th>50%</th>\n",
       "      <td>1.190011e+07</td>\n",
       "      <td>3.244301e+18</td>\n",
       "      <td>6.920000e+05</td>\n",
       "      <td>112.000000</td>\n",
       "      <td>7.254839e+03</td>\n",
       "    </tr>\n",
       "    <tr>\n",
       "      <th>75%</th>\n",
       "      <td>1.811065e+07</td>\n",
       "      <td>3.504601e+18</td>\n",
       "      <td>2.161987e+06</td>\n",
       "      <td>203.000000</td>\n",
       "      <td>2.390824e+04</td>\n",
       "    </tr>\n",
       "    <tr>\n",
       "      <th>max</th>\n",
       "      <td>2.719647e+07</td>\n",
       "      <td>4.920456e+18</td>\n",
       "      <td>1.387754e+11</td>\n",
       "      <td>2000.000000</td>\n",
       "      <td>2.649200e+08</td>\n",
       "    </tr>\n",
       "  </tbody>\n",
       "</table>\n",
       "</div>"
      ],
      "text/plain": [
       "                 id  contract_number          cost  contract_execution_days  \\\n",
       "count  9.001530e+05     9.001530e+05  9.001530e+05            900153.000000   \n",
       "mean   1.215062e+07     3.044760e+18  7.050218e+06               153.150148   \n",
       "std    7.133365e+06     6.505005e+17  1.685426e+08               146.767441   \n",
       "min    1.374390e+05     3.403001e+17  1.000000e-02                 1.000000   \n",
       "25%    5.810018e+06     2.771570e+18  2.092741e+05                59.000000   \n",
       "50%    1.190011e+07     3.244301e+18  6.920000e+05               112.000000   \n",
       "75%    1.811065e+07     3.504601e+18  2.161987e+06               203.000000   \n",
       "max    2.719647e+07     4.920456e+18  1.387754e+11              2000.000000   \n",
       "\n",
       "       price_per_day  \n",
       "count   9.001530e+05  \n",
       "mean    4.646881e+04  \n",
       "std     5.455776e+05  \n",
       "min     1.024590e-05  \n",
       "25%     2.055556e+03  \n",
       "50%     7.254839e+03  \n",
       "75%     2.390824e+04  \n",
       "max     2.649200e+08  "
      ]
     },
     "execution_count": 101,
     "metadata": {},
     "output_type": "execute_result"
    }
   ],
   "source": [
    "df.describe()"
   ]
  },
  {
   "cell_type": "code",
   "execution_count": 102,
   "metadata": {},
   "outputs": [
    {
     "data": {
      "text/html": [
       "<div>\n",
       "<style scoped>\n",
       "    .dataframe tbody tr th:only-of-type {\n",
       "        vertical-align: middle;\n",
       "    }\n",
       "\n",
       "    .dataframe tbody tr th {\n",
       "        vertical-align: top;\n",
       "    }\n",
       "\n",
       "    .dataframe thead th {\n",
       "        text-align: right;\n",
       "    }\n",
       "</style>\n",
       "<table border=\"1\" class=\"dataframe\">\n",
       "  <thead>\n",
       "    <tr style=\"text-align: right;\">\n",
       "      <th></th>\n",
       "      <th>id</th>\n",
       "      <th>contract_number</th>\n",
       "      <th>object_name</th>\n",
       "      <th>object_code</th>\n",
       "      <th>cost</th>\n",
       "      <th>contract_execution_days</th>\n",
       "      <th>data</th>\n",
       "      <th>data_final</th>\n",
       "      <th>price_per_day</th>\n",
       "    </tr>\n",
       "  </thead>\n",
       "  <tbody>\n",
       "    <tr>\n",
       "      <th>0</th>\n",
       "      <td>137439</td>\n",
       "      <td>2590407717221000153</td>\n",
       "      <td>Работы строительные специализированные</td>\n",
       "      <td>43.9</td>\n",
       "      <td>539265.60</td>\n",
       "      <td>29</td>\n",
       "      <td>['работы', 'строительные', 'специализированные']</td>\n",
       "      <td>['работ', 'строительн', 'специализирова']</td>\n",
       "      <td>18595.365517</td>\n",
       "    </tr>\n",
       "    <tr>\n",
       "      <th>1</th>\n",
       "      <td>137528</td>\n",
       "      <td>2590421285821000134</td>\n",
       "      <td>Работы строительные специализированные</td>\n",
       "      <td>43.9</td>\n",
       "      <td>2299469.98</td>\n",
       "      <td>122</td>\n",
       "      <td>['работы', 'строительные', 'специализированные']</td>\n",
       "      <td>['работ', 'строительн', 'специализирова']</td>\n",
       "      <td>18848.114590</td>\n",
       "    </tr>\n",
       "    <tr>\n",
       "      <th>2</th>\n",
       "      <td>137529</td>\n",
       "      <td>2590421285821000135</td>\n",
       "      <td>Работы строительные специализированные</td>\n",
       "      <td>43.9</td>\n",
       "      <td>1898111.58</td>\n",
       "      <td>122</td>\n",
       "      <td>['работы', 'строительные', 'специализированные']</td>\n",
       "      <td>['работ', 'строительн', 'специализирова']</td>\n",
       "      <td>15558.291639</td>\n",
       "    </tr>\n",
       "    <tr>\n",
       "      <th>3</th>\n",
       "      <td>137827</td>\n",
       "      <td>2590500335021000676</td>\n",
       "      <td>Работы строительные специализированные</td>\n",
       "      <td>43.3</td>\n",
       "      <td>341914.00</td>\n",
       "      <td>199</td>\n",
       "      <td>['работы', 'строительные', 'специализированные']</td>\n",
       "      <td>['работ', 'строительн', 'специализирова']</td>\n",
       "      <td>1718.160804</td>\n",
       "    </tr>\n",
       "    <tr>\n",
       "      <th>4</th>\n",
       "      <td>138113</td>\n",
       "      <td>2590615606021000060</td>\n",
       "      <td>Услуги в области архитектуры и инженерно-техни...</td>\n",
       "      <td>71.1</td>\n",
       "      <td>1714352.37</td>\n",
       "      <td>383</td>\n",
       "      <td>['услуги', 'в', 'области', 'архитектуры', 'и',...</td>\n",
       "      <td>['услуг', 'област', 'архитектур', 'проектирова...</td>\n",
       "      <td>4476.115849</td>\n",
       "    </tr>\n",
       "  </tbody>\n",
       "</table>\n",
       "</div>"
      ],
      "text/plain": [
       "       id      contract_number  \\\n",
       "0  137439  2590407717221000153   \n",
       "1  137528  2590421285821000134   \n",
       "2  137529  2590421285821000135   \n",
       "3  137827  2590500335021000676   \n",
       "4  138113  2590615606021000060   \n",
       "\n",
       "                                         object_name object_code        cost  \\\n",
       "0             Работы строительные специализированные        43.9   539265.60   \n",
       "1             Работы строительные специализированные        43.9  2299469.98   \n",
       "2             Работы строительные специализированные        43.9  1898111.58   \n",
       "3             Работы строительные специализированные        43.3   341914.00   \n",
       "4  Услуги в области архитектуры и инженерно-техни...        71.1  1714352.37   \n",
       "\n",
       "   contract_execution_days                                               data  \\\n",
       "0                       29   ['работы', 'строительные', 'специализированные']   \n",
       "1                      122   ['работы', 'строительные', 'специализированные']   \n",
       "2                      122   ['работы', 'строительные', 'специализированные']   \n",
       "3                      199   ['работы', 'строительные', 'специализированные']   \n",
       "4                      383  ['услуги', 'в', 'области', 'архитектуры', 'и',...   \n",
       "\n",
       "                                          data_final  price_per_day  \n",
       "0          ['работ', 'строительн', 'специализирова']   18595.365517  \n",
       "1          ['работ', 'строительн', 'специализирова']   18848.114590  \n",
       "2          ['работ', 'строительн', 'специализирова']   15558.291639  \n",
       "3          ['работ', 'строительн', 'специализирова']    1718.160804  \n",
       "4  ['услуг', 'област', 'архитектур', 'проектирова...    4476.115849  "
      ]
     },
     "execution_count": 102,
     "metadata": {},
     "output_type": "execute_result"
    }
   ],
   "source": [
    "df.head()"
   ]
  },
  {
   "cell_type": "code",
   "execution_count": 103,
   "metadata": {},
   "outputs": [
    {
     "name": "stdout",
     "output_type": "stream",
     "text": [
      "<class 'pandas.core.frame.DataFrame'>\n",
      "RangeIndex: 900153 entries, 0 to 900152\n",
      "Data columns (total 9 columns):\n",
      " #   Column                   Non-Null Count   Dtype  \n",
      "---  ------                   --------------   -----  \n",
      " 0   id                       900153 non-null  int64  \n",
      " 1   contract_number          900153 non-null  int64  \n",
      " 2   object_name              900153 non-null  string \n",
      " 3   object_code              900153 non-null  string \n",
      " 4   cost                     900153 non-null  float64\n",
      " 5   contract_execution_days  900153 non-null  int64  \n",
      " 6   data                     900153 non-null  object \n",
      " 7   data_final               900153 non-null  object \n",
      " 8   price_per_day            900153 non-null  float64\n",
      "dtypes: float64(2), int64(3), object(2), string(2)\n",
      "memory usage: 61.8+ MB\n"
     ]
    }
   ],
   "source": [
    "df.info()"
   ]
  },
  {
   "cell_type": "code",
   "execution_count": 104,
   "metadata": {},
   "outputs": [],
   "source": [
    "#Делаем разбивку по группам на основании номеров ОКПД-2\n",
    "import re \n",
    "\n",
    "def match(templ, value):\n",
    "    try:\n",
    "      return re.search(f'^{templ}.', value) \n",
    "    except Exception as e:\n",
    "        print(f\"{type(e).__name__}: {e}\")\n",
    "        return False\n",
    "    \n",
    "def get_group(value):    \n",
    "    if (match('41', value) or match('42', value) or match('43', value)) and  value not in ('43.9', '42.9', '42.2', '43.2', '41.1', '71.1', '43.2'):  \n",
    "        return 'Строительно-монтажные работы'\n",
    "    elif value in ('41.1', '71.1'):  \n",
    "        return 'Проектно-изыскательские работы'\n",
    "    elif value in ('43.2'):  \n",
    "        return 'Подключение коммуникаций'\n",
    "    elif value in ('43.9', '42.9', '42.2'):  \n",
    "        return 'Строительный надзор'\n",
    "    else:\n",
    "        return 'Прочие'"
   ]
  },
  {
   "cell_type": "code",
   "execution_count": 105,
   "metadata": {},
   "outputs": [
    {
     "data": {
      "text/html": [
       "<div>\n",
       "<style scoped>\n",
       "    .dataframe tbody tr th:only-of-type {\n",
       "        vertical-align: middle;\n",
       "    }\n",
       "\n",
       "    .dataframe tbody tr th {\n",
       "        vertical-align: top;\n",
       "    }\n",
       "\n",
       "    .dataframe thead th {\n",
       "        text-align: right;\n",
       "    }\n",
       "</style>\n",
       "<table border=\"1\" class=\"dataframe\">\n",
       "  <thead>\n",
       "    <tr style=\"text-align: right;\">\n",
       "      <th></th>\n",
       "      <th>id</th>\n",
       "      <th>contract_number</th>\n",
       "      <th>object_name</th>\n",
       "      <th>object_code</th>\n",
       "      <th>cost</th>\n",
       "      <th>contract_execution_days</th>\n",
       "      <th>data</th>\n",
       "      <th>data_final</th>\n",
       "      <th>price_per_day</th>\n",
       "      <th>group</th>\n",
       "    </tr>\n",
       "  </thead>\n",
       "  <tbody>\n",
       "    <tr>\n",
       "      <th>0</th>\n",
       "      <td>137439</td>\n",
       "      <td>2590407717221000153</td>\n",
       "      <td>Работы строительные специализированные</td>\n",
       "      <td>43.9</td>\n",
       "      <td>539265.60</td>\n",
       "      <td>29</td>\n",
       "      <td>['работы', 'строительные', 'специализированные']</td>\n",
       "      <td>['работ', 'строительн', 'специализирова']</td>\n",
       "      <td>18595.365517</td>\n",
       "      <td>Строительный надзор</td>\n",
       "    </tr>\n",
       "    <tr>\n",
       "      <th>1</th>\n",
       "      <td>137528</td>\n",
       "      <td>2590421285821000134</td>\n",
       "      <td>Работы строительные специализированные</td>\n",
       "      <td>43.9</td>\n",
       "      <td>2299469.98</td>\n",
       "      <td>122</td>\n",
       "      <td>['работы', 'строительные', 'специализированные']</td>\n",
       "      <td>['работ', 'строительн', 'специализирова']</td>\n",
       "      <td>18848.114590</td>\n",
       "      <td>Строительный надзор</td>\n",
       "    </tr>\n",
       "    <tr>\n",
       "      <th>2</th>\n",
       "      <td>137529</td>\n",
       "      <td>2590421285821000135</td>\n",
       "      <td>Работы строительные специализированные</td>\n",
       "      <td>43.9</td>\n",
       "      <td>1898111.58</td>\n",
       "      <td>122</td>\n",
       "      <td>['работы', 'строительные', 'специализированные']</td>\n",
       "      <td>['работ', 'строительн', 'специализирова']</td>\n",
       "      <td>15558.291639</td>\n",
       "      <td>Строительный надзор</td>\n",
       "    </tr>\n",
       "    <tr>\n",
       "      <th>3</th>\n",
       "      <td>137827</td>\n",
       "      <td>2590500335021000676</td>\n",
       "      <td>Работы строительные специализированные</td>\n",
       "      <td>43.3</td>\n",
       "      <td>341914.00</td>\n",
       "      <td>199</td>\n",
       "      <td>['работы', 'строительные', 'специализированные']</td>\n",
       "      <td>['работ', 'строительн', 'специализирова']</td>\n",
       "      <td>1718.160804</td>\n",
       "      <td>Строительно-монтажные работы</td>\n",
       "    </tr>\n",
       "    <tr>\n",
       "      <th>4</th>\n",
       "      <td>138113</td>\n",
       "      <td>2590615606021000060</td>\n",
       "      <td>Услуги в области архитектуры и инженерно-техни...</td>\n",
       "      <td>71.1</td>\n",
       "      <td>1714352.37</td>\n",
       "      <td>383</td>\n",
       "      <td>['услуги', 'в', 'области', 'архитектуры', 'и',...</td>\n",
       "      <td>['услуг', 'област', 'архитектур', 'проектирова...</td>\n",
       "      <td>4476.115849</td>\n",
       "      <td>Проектно-изыскательские работы</td>\n",
       "    </tr>\n",
       "  </tbody>\n",
       "</table>\n",
       "</div>"
      ],
      "text/plain": [
       "       id      contract_number  \\\n",
       "0  137439  2590407717221000153   \n",
       "1  137528  2590421285821000134   \n",
       "2  137529  2590421285821000135   \n",
       "3  137827  2590500335021000676   \n",
       "4  138113  2590615606021000060   \n",
       "\n",
       "                                         object_name object_code        cost  \\\n",
       "0             Работы строительные специализированные        43.9   539265.60   \n",
       "1             Работы строительные специализированные        43.9  2299469.98   \n",
       "2             Работы строительные специализированные        43.9  1898111.58   \n",
       "3             Работы строительные специализированные        43.3   341914.00   \n",
       "4  Услуги в области архитектуры и инженерно-техни...        71.1  1714352.37   \n",
       "\n",
       "   contract_execution_days                                               data  \\\n",
       "0                       29   ['работы', 'строительные', 'специализированные']   \n",
       "1                      122   ['работы', 'строительные', 'специализированные']   \n",
       "2                      122   ['работы', 'строительные', 'специализированные']   \n",
       "3                      199   ['работы', 'строительные', 'специализированные']   \n",
       "4                      383  ['услуги', 'в', 'области', 'архитектуры', 'и',...   \n",
       "\n",
       "                                          data_final  price_per_day  \\\n",
       "0          ['работ', 'строительн', 'специализирова']   18595.365517   \n",
       "1          ['работ', 'строительн', 'специализирова']   18848.114590   \n",
       "2          ['работ', 'строительн', 'специализирова']   15558.291639   \n",
       "3          ['работ', 'строительн', 'специализирова']    1718.160804   \n",
       "4  ['услуг', 'област', 'архитектур', 'проектирова...    4476.115849   \n",
       "\n",
       "                            group  \n",
       "0             Строительный надзор  \n",
       "1             Строительный надзор  \n",
       "2             Строительный надзор  \n",
       "3    Строительно-монтажные работы  \n",
       "4  Проектно-изыскательские работы  "
      ]
     },
     "execution_count": 105,
     "metadata": {},
     "output_type": "execute_result"
    }
   ],
   "source": [
    "df['group'] = df['object_code'].apply(lambda x: get_group(x))\n",
    "df.head()"
   ]
  },
  {
   "cell_type": "markdown",
   "metadata": {},
   "source": [
    "### LabelEncoder"
   ]
  },
  {
   "cell_type": "code",
   "execution_count": 106,
   "metadata": {},
   "outputs": [
    {
     "data": {
      "text/plain": [
       "array([3, 3, 3, ..., 2, 2, 2])"
      ]
     },
     "execution_count": 106,
     "metadata": {},
     "output_type": "execute_result"
    }
   ],
   "source": [
    "from sklearn.preprocessing import LabelEncoder\n",
    "\n",
    "label_encoder = LabelEncoder()\n",
    "y = label_encoder.fit_transform(df['group'])\n",
    "#y = label_encoder.fit_transform(df['object_code'])\n",
    "y"
   ]
  },
  {
   "cell_type": "markdown",
   "metadata": {},
   "source": [
    "### OneHotEncoder"
   ]
  },
  {
   "cell_type": "code",
   "execution_count": 107,
   "metadata": {},
   "outputs": [
    {
     "data": {
      "text/html": [
       "<div>\n",
       "<style scoped>\n",
       "    .dataframe tbody tr th:only-of-type {\n",
       "        vertical-align: middle;\n",
       "    }\n",
       "\n",
       "    .dataframe tbody tr th {\n",
       "        vertical-align: top;\n",
       "    }\n",
       "\n",
       "    .dataframe thead th {\n",
       "        text-align: right;\n",
       "    }\n",
       "</style>\n",
       "<table border=\"1\" class=\"dataframe\">\n",
       "  <thead>\n",
       "    <tr style=\"text-align: right;\">\n",
       "      <th></th>\n",
       "      <th>Подключение коммуникаций</th>\n",
       "      <th>Проектно-изыскательские работы</th>\n",
       "      <th>Строительно-монтажные работы</th>\n",
       "      <th>Строительный надзор</th>\n",
       "    </tr>\n",
       "  </thead>\n",
       "  <tbody>\n",
       "    <tr>\n",
       "      <th>0</th>\n",
       "      <td>0.0</td>\n",
       "      <td>0.0</td>\n",
       "      <td>0.0</td>\n",
       "      <td>1.0</td>\n",
       "    </tr>\n",
       "    <tr>\n",
       "      <th>1</th>\n",
       "      <td>0.0</td>\n",
       "      <td>0.0</td>\n",
       "      <td>0.0</td>\n",
       "      <td>1.0</td>\n",
       "    </tr>\n",
       "    <tr>\n",
       "      <th>2</th>\n",
       "      <td>0.0</td>\n",
       "      <td>0.0</td>\n",
       "      <td>0.0</td>\n",
       "      <td>1.0</td>\n",
       "    </tr>\n",
       "    <tr>\n",
       "      <th>3</th>\n",
       "      <td>0.0</td>\n",
       "      <td>0.0</td>\n",
       "      <td>1.0</td>\n",
       "      <td>0.0</td>\n",
       "    </tr>\n",
       "    <tr>\n",
       "      <th>4</th>\n",
       "      <td>0.0</td>\n",
       "      <td>1.0</td>\n",
       "      <td>0.0</td>\n",
       "      <td>0.0</td>\n",
       "    </tr>\n",
       "    <tr>\n",
       "      <th>5</th>\n",
       "      <td>0.0</td>\n",
       "      <td>0.0</td>\n",
       "      <td>0.0</td>\n",
       "      <td>1.0</td>\n",
       "    </tr>\n",
       "    <tr>\n",
       "      <th>6</th>\n",
       "      <td>0.0</td>\n",
       "      <td>0.0</td>\n",
       "      <td>0.0</td>\n",
       "      <td>1.0</td>\n",
       "    </tr>\n",
       "    <tr>\n",
       "      <th>7</th>\n",
       "      <td>0.0</td>\n",
       "      <td>0.0</td>\n",
       "      <td>0.0</td>\n",
       "      <td>1.0</td>\n",
       "    </tr>\n",
       "    <tr>\n",
       "      <th>8</th>\n",
       "      <td>0.0</td>\n",
       "      <td>0.0</td>\n",
       "      <td>0.0</td>\n",
       "      <td>1.0</td>\n",
       "    </tr>\n",
       "    <tr>\n",
       "      <th>9</th>\n",
       "      <td>0.0</td>\n",
       "      <td>0.0</td>\n",
       "      <td>0.0</td>\n",
       "      <td>1.0</td>\n",
       "    </tr>\n",
       "  </tbody>\n",
       "</table>\n",
       "</div>"
      ],
      "text/plain": [
       "   Подключение коммуникаций  Проектно-изыскательские работы  \\\n",
       "0                       0.0                             0.0   \n",
       "1                       0.0                             0.0   \n",
       "2                       0.0                             0.0   \n",
       "3                       0.0                             0.0   \n",
       "4                       0.0                             1.0   \n",
       "5                       0.0                             0.0   \n",
       "6                       0.0                             0.0   \n",
       "7                       0.0                             0.0   \n",
       "8                       0.0                             0.0   \n",
       "9                       0.0                             0.0   \n",
       "\n",
       "   Строительно-монтажные работы  Строительный надзор  \n",
       "0                           0.0                  1.0  \n",
       "1                           0.0                  1.0  \n",
       "2                           0.0                  1.0  \n",
       "3                           1.0                  0.0  \n",
       "4                           0.0                  0.0  \n",
       "5                           0.0                  1.0  \n",
       "6                           0.0                  1.0  \n",
       "7                           0.0                  1.0  \n",
       "8                           0.0                  1.0  \n",
       "9                           0.0                  1.0  "
      ]
     },
     "execution_count": 107,
     "metadata": {},
     "output_type": "execute_result"
    }
   ],
   "source": [
    "df_final = df.copy()\n",
    "\n",
    "from sklearn.preprocessing import OneHotEncoder\n",
    "\n",
    "onehotencoder = OneHotEncoder()\n",
    "data_new = onehotencoder.fit_transform(df_final['group'].values.astype('U').reshape(-1, 1))\n",
    "columns = np.char.strip(onehotencoder.categories_[0].astype('U'))\n",
    "df_one_hot_codes = pd.DataFrame(data_new.toarray(), columns=columns)\n",
    "df_one_hot_codes.head(10)"
   ]
  },
  {
   "cell_type": "markdown",
   "metadata": {},
   "source": [
    "По ОКПД-2 контракты в общем случае должны разделяться так:\n",
    "\n",
    "0. Прочие\n",
    "1. Строительно-монтажные работы (СМР) - 41, 42, 43(кроме нижеперечисленных)\n",
    "2. Проектно-изыскательские работы (ПИР) - 41.1, 71.1\n",
    "3. Подключение коммуникаций - 43.22\n",
    "4. Строительный надзор – четкой группы нет. \n",
    "\n",
    "Строительный надзор - (43.9, 42.9, 42.2) - получил на основе ручного анализа данных. Лучше всего воспользоваться специалистом в этой предметной области.\n"
   ]
  },
  {
   "cell_type": "markdown",
   "metadata": {},
   "source": [
    "### TfidfVectorizer"
   ]
  },
  {
   "cell_type": "code",
   "execution_count": 108,
   "metadata": {},
   "outputs": [
    {
     "data": {
      "text/html": [
       "<div>\n",
       "<style scoped>\n",
       "    .dataframe tbody tr th:only-of-type {\n",
       "        vertical-align: middle;\n",
       "    }\n",
       "\n",
       "    .dataframe tbody tr th {\n",
       "        vertical-align: top;\n",
       "    }\n",
       "\n",
       "    .dataframe thead th {\n",
       "        text-align: right;\n",
       "    }\n",
       "</style>\n",
       "<table border=\"1\" class=\"dataframe\">\n",
       "  <thead>\n",
       "    <tr style=\"text-align: right;\">\n",
       "      <th></th>\n",
       "      <th>0</th>\n",
       "      <th>1</th>\n",
       "      <th>2</th>\n",
       "      <th>3</th>\n",
       "      <th>4</th>\n",
       "      <th>5</th>\n",
       "      <th>6</th>\n",
       "      <th>7</th>\n",
       "      <th>8</th>\n",
       "      <th>9</th>\n",
       "      <th>10</th>\n",
       "      <th>11</th>\n",
       "      <th>12</th>\n",
       "      <th>13</th>\n",
       "      <th>price</th>\n",
       "      <th>Подключение коммуникаций</th>\n",
       "      <th>Проектно-изыскательские работы</th>\n",
       "      <th>Строительно-монтажные работы</th>\n",
       "      <th>Строительный надзор</th>\n",
       "    </tr>\n",
       "  </thead>\n",
       "  <tbody>\n",
       "    <tr>\n",
       "      <th>0</th>\n",
       "      <td>0.000000</td>\n",
       "      <td>0.000000</td>\n",
       "      <td>0.0</td>\n",
       "      <td>0.000000</td>\n",
       "      <td>0.0</td>\n",
       "      <td>0.000000</td>\n",
       "      <td>0.000000</td>\n",
       "      <td>0.000000</td>\n",
       "      <td>0.000000</td>\n",
       "      <td>0.000000</td>\n",
       "      <td>1.0</td>\n",
       "      <td>0.000000</td>\n",
       "      <td>0.000000</td>\n",
       "      <td>0.000000</td>\n",
       "      <td>18595.365517</td>\n",
       "      <td>0.0</td>\n",
       "      <td>0.0</td>\n",
       "      <td>0.0</td>\n",
       "      <td>1.0</td>\n",
       "    </tr>\n",
       "    <tr>\n",
       "      <th>1</th>\n",
       "      <td>0.000000</td>\n",
       "      <td>0.000000</td>\n",
       "      <td>0.0</td>\n",
       "      <td>0.000000</td>\n",
       "      <td>0.0</td>\n",
       "      <td>0.000000</td>\n",
       "      <td>0.000000</td>\n",
       "      <td>0.000000</td>\n",
       "      <td>0.000000</td>\n",
       "      <td>0.000000</td>\n",
       "      <td>1.0</td>\n",
       "      <td>0.000000</td>\n",
       "      <td>0.000000</td>\n",
       "      <td>0.000000</td>\n",
       "      <td>18848.114590</td>\n",
       "      <td>0.0</td>\n",
       "      <td>0.0</td>\n",
       "      <td>0.0</td>\n",
       "      <td>1.0</td>\n",
       "    </tr>\n",
       "    <tr>\n",
       "      <th>2</th>\n",
       "      <td>0.000000</td>\n",
       "      <td>0.000000</td>\n",
       "      <td>0.0</td>\n",
       "      <td>0.000000</td>\n",
       "      <td>0.0</td>\n",
       "      <td>0.000000</td>\n",
       "      <td>0.000000</td>\n",
       "      <td>0.000000</td>\n",
       "      <td>0.000000</td>\n",
       "      <td>0.000000</td>\n",
       "      <td>1.0</td>\n",
       "      <td>0.000000</td>\n",
       "      <td>0.000000</td>\n",
       "      <td>0.000000</td>\n",
       "      <td>15558.291639</td>\n",
       "      <td>0.0</td>\n",
       "      <td>0.0</td>\n",
       "      <td>0.0</td>\n",
       "      <td>1.0</td>\n",
       "    </tr>\n",
       "    <tr>\n",
       "      <th>3</th>\n",
       "      <td>0.000000</td>\n",
       "      <td>0.000000</td>\n",
       "      <td>0.0</td>\n",
       "      <td>0.000000</td>\n",
       "      <td>0.0</td>\n",
       "      <td>0.000000</td>\n",
       "      <td>0.000000</td>\n",
       "      <td>0.000000</td>\n",
       "      <td>0.000000</td>\n",
       "      <td>0.000000</td>\n",
       "      <td>1.0</td>\n",
       "      <td>0.000000</td>\n",
       "      <td>0.000000</td>\n",
       "      <td>0.000000</td>\n",
       "      <td>1718.160804</td>\n",
       "      <td>0.0</td>\n",
       "      <td>0.0</td>\n",
       "      <td>1.0</td>\n",
       "      <td>0.0</td>\n",
       "    </tr>\n",
       "    <tr>\n",
       "      <th>4</th>\n",
       "      <td>0.368093</td>\n",
       "      <td>0.368093</td>\n",
       "      <td>0.0</td>\n",
       "      <td>0.000000</td>\n",
       "      <td>0.0</td>\n",
       "      <td>0.368093</td>\n",
       "      <td>0.368093</td>\n",
       "      <td>0.227048</td>\n",
       "      <td>0.368093</td>\n",
       "      <td>0.000000</td>\n",
       "      <td>0.0</td>\n",
       "      <td>0.000000</td>\n",
       "      <td>0.368093</td>\n",
       "      <td>0.368093</td>\n",
       "      <td>4476.115849</td>\n",
       "      <td>0.0</td>\n",
       "      <td>1.0</td>\n",
       "      <td>0.0</td>\n",
       "      <td>0.0</td>\n",
       "    </tr>\n",
       "    <tr>\n",
       "      <th>...</th>\n",
       "      <td>...</td>\n",
       "      <td>...</td>\n",
       "      <td>...</td>\n",
       "      <td>...</td>\n",
       "      <td>...</td>\n",
       "      <td>...</td>\n",
       "      <td>...</td>\n",
       "      <td>...</td>\n",
       "      <td>...</td>\n",
       "      <td>...</td>\n",
       "      <td>...</td>\n",
       "      <td>...</td>\n",
       "      <td>...</td>\n",
       "      <td>...</td>\n",
       "      <td>...</td>\n",
       "      <td>...</td>\n",
       "      <td>...</td>\n",
       "      <td>...</td>\n",
       "      <td>...</td>\n",
       "    </tr>\n",
       "    <tr>\n",
       "      <th>900148</th>\n",
       "      <td>0.000000</td>\n",
       "      <td>0.000000</td>\n",
       "      <td>0.0</td>\n",
       "      <td>0.000000</td>\n",
       "      <td>0.0</td>\n",
       "      <td>0.000000</td>\n",
       "      <td>0.000000</td>\n",
       "      <td>0.000000</td>\n",
       "      <td>0.000000</td>\n",
       "      <td>0.000000</td>\n",
       "      <td>1.0</td>\n",
       "      <td>0.000000</td>\n",
       "      <td>0.000000</td>\n",
       "      <td>0.000000</td>\n",
       "      <td>8877.311896</td>\n",
       "      <td>0.0</td>\n",
       "      <td>0.0</td>\n",
       "      <td>1.0</td>\n",
       "      <td>0.0</td>\n",
       "    </tr>\n",
       "    <tr>\n",
       "      <th>900149</th>\n",
       "      <td>0.000000</td>\n",
       "      <td>0.000000</td>\n",
       "      <td>0.0</td>\n",
       "      <td>0.521427</td>\n",
       "      <td>0.0</td>\n",
       "      <td>0.000000</td>\n",
       "      <td>0.000000</td>\n",
       "      <td>0.429351</td>\n",
       "      <td>0.000000</td>\n",
       "      <td>0.521427</td>\n",
       "      <td>0.0</td>\n",
       "      <td>0.521427</td>\n",
       "      <td>0.000000</td>\n",
       "      <td>0.000000</td>\n",
       "      <td>382406.279305</td>\n",
       "      <td>0.0</td>\n",
       "      <td>0.0</td>\n",
       "      <td>1.0</td>\n",
       "      <td>0.0</td>\n",
       "    </tr>\n",
       "    <tr>\n",
       "      <th>900150</th>\n",
       "      <td>0.000000</td>\n",
       "      <td>0.000000</td>\n",
       "      <td>0.0</td>\n",
       "      <td>0.521427</td>\n",
       "      <td>0.0</td>\n",
       "      <td>0.000000</td>\n",
       "      <td>0.000000</td>\n",
       "      <td>0.429351</td>\n",
       "      <td>0.000000</td>\n",
       "      <td>0.521427</td>\n",
       "      <td>0.0</td>\n",
       "      <td>0.521427</td>\n",
       "      <td>0.000000</td>\n",
       "      <td>0.000000</td>\n",
       "      <td>310671.686631</td>\n",
       "      <td>0.0</td>\n",
       "      <td>0.0</td>\n",
       "      <td>1.0</td>\n",
       "      <td>0.0</td>\n",
       "    </tr>\n",
       "    <tr>\n",
       "      <th>900151</th>\n",
       "      <td>0.000000</td>\n",
       "      <td>0.000000</td>\n",
       "      <td>0.0</td>\n",
       "      <td>0.521427</td>\n",
       "      <td>0.0</td>\n",
       "      <td>0.000000</td>\n",
       "      <td>0.000000</td>\n",
       "      <td>0.429351</td>\n",
       "      <td>0.000000</td>\n",
       "      <td>0.521427</td>\n",
       "      <td>0.0</td>\n",
       "      <td>0.521427</td>\n",
       "      <td>0.000000</td>\n",
       "      <td>0.000000</td>\n",
       "      <td>105351.878211</td>\n",
       "      <td>0.0</td>\n",
       "      <td>0.0</td>\n",
       "      <td>1.0</td>\n",
       "      <td>0.0</td>\n",
       "    </tr>\n",
       "    <tr>\n",
       "      <th>900152</th>\n",
       "      <td>0.000000</td>\n",
       "      <td>0.000000</td>\n",
       "      <td>0.0</td>\n",
       "      <td>0.521427</td>\n",
       "      <td>0.0</td>\n",
       "      <td>0.000000</td>\n",
       "      <td>0.000000</td>\n",
       "      <td>0.429351</td>\n",
       "      <td>0.000000</td>\n",
       "      <td>0.521427</td>\n",
       "      <td>0.0</td>\n",
       "      <td>0.521427</td>\n",
       "      <td>0.000000</td>\n",
       "      <td>0.000000</td>\n",
       "      <td>182252.940483</td>\n",
       "      <td>0.0</td>\n",
       "      <td>0.0</td>\n",
       "      <td>1.0</td>\n",
       "      <td>0.0</td>\n",
       "    </tr>\n",
       "  </tbody>\n",
       "</table>\n",
       "<p>900153 rows × 19 columns</p>\n",
       "</div>"
      ],
      "text/plain": [
       "               0         1    2         3    4         5         6         7  \\\n",
       "0       0.000000  0.000000  0.0  0.000000  0.0  0.000000  0.000000  0.000000   \n",
       "1       0.000000  0.000000  0.0  0.000000  0.0  0.000000  0.000000  0.000000   \n",
       "2       0.000000  0.000000  0.0  0.000000  0.0  0.000000  0.000000  0.000000   \n",
       "3       0.000000  0.000000  0.0  0.000000  0.0  0.000000  0.000000  0.000000   \n",
       "4       0.368093  0.368093  0.0  0.000000  0.0  0.368093  0.368093  0.227048   \n",
       "...          ...       ...  ...       ...  ...       ...       ...       ...   \n",
       "900148  0.000000  0.000000  0.0  0.000000  0.0  0.000000  0.000000  0.000000   \n",
       "900149  0.000000  0.000000  0.0  0.521427  0.0  0.000000  0.000000  0.429351   \n",
       "900150  0.000000  0.000000  0.0  0.521427  0.0  0.000000  0.000000  0.429351   \n",
       "900151  0.000000  0.000000  0.0  0.521427  0.0  0.000000  0.000000  0.429351   \n",
       "900152  0.000000  0.000000  0.0  0.521427  0.0  0.000000  0.000000  0.429351   \n",
       "\n",
       "               8         9   10        11        12        13          price  \\\n",
       "0       0.000000  0.000000  1.0  0.000000  0.000000  0.000000   18595.365517   \n",
       "1       0.000000  0.000000  1.0  0.000000  0.000000  0.000000   18848.114590   \n",
       "2       0.000000  0.000000  1.0  0.000000  0.000000  0.000000   15558.291639   \n",
       "3       0.000000  0.000000  1.0  0.000000  0.000000  0.000000    1718.160804   \n",
       "4       0.368093  0.000000  0.0  0.000000  0.368093  0.368093    4476.115849   \n",
       "...          ...       ...  ...       ...       ...       ...            ...   \n",
       "900148  0.000000  0.000000  1.0  0.000000  0.000000  0.000000    8877.311896   \n",
       "900149  0.000000  0.521427  0.0  0.521427  0.000000  0.000000  382406.279305   \n",
       "900150  0.000000  0.521427  0.0  0.521427  0.000000  0.000000  310671.686631   \n",
       "900151  0.000000  0.521427  0.0  0.521427  0.000000  0.000000  105351.878211   \n",
       "900152  0.000000  0.521427  0.0  0.521427  0.000000  0.000000  182252.940483   \n",
       "\n",
       "        Подключение коммуникаций  Проектно-изыскательские работы  \\\n",
       "0                            0.0                             0.0   \n",
       "1                            0.0                             0.0   \n",
       "2                            0.0                             0.0   \n",
       "3                            0.0                             0.0   \n",
       "4                            0.0                             1.0   \n",
       "...                          ...                             ...   \n",
       "900148                       0.0                             0.0   \n",
       "900149                       0.0                             0.0   \n",
       "900150                       0.0                             0.0   \n",
       "900151                       0.0                             0.0   \n",
       "900152                       0.0                             0.0   \n",
       "\n",
       "        Строительно-монтажные работы  Строительный надзор  \n",
       "0                                0.0                  1.0  \n",
       "1                                0.0                  1.0  \n",
       "2                                0.0                  1.0  \n",
       "3                                1.0                  0.0  \n",
       "4                                0.0                  0.0  \n",
       "...                              ...                  ...  \n",
       "900148                           1.0                  0.0  \n",
       "900149                           1.0                  0.0  \n",
       "900150                           1.0                  0.0  \n",
       "900151                           1.0                  0.0  \n",
       "900152                           1.0                  0.0  \n",
       "\n",
       "[900153 rows x 19 columns]"
      ]
     },
     "execution_count": 108,
     "metadata": {},
     "output_type": "execute_result"
    }
   ],
   "source": [
    "from sklearn.feature_extraction.text import TfidfVectorizer, CountVectorizer\n",
    "from sklearn.model_selection import train_test_split\n",
    "\n",
    "tfidf = TfidfVectorizer(max_features=1700, min_df=5, max_df=0.7)\n",
    "\n",
    "X = df['data_final']\n",
    "tfidf_X = tfidf.fit_transform(X).toarray()\n",
    "\n",
    "tfidf_X\n",
    "tfidf = pd.DataFrame(tfidf_X)\n",
    "tfidf['price'] = df['price_per_day'].values\n",
    "#tfidf['y'] = y\n",
    "tfidf = tfidf.join(df_one_hot_codes)\n",
    "tfidf"
   ]
  },
  {
   "cell_type": "code",
   "execution_count": 109,
   "metadata": {},
   "outputs": [
    {
     "data": {
      "text/plain": [
       "array([[0., 0., 0., ..., 0., 0., 1.],\n",
       "       [0., 0., 0., ..., 0., 0., 1.],\n",
       "       [0., 0., 0., ..., 0., 0., 1.],\n",
       "       ...,\n",
       "       [0., 0., 0., ..., 0., 1., 0.],\n",
       "       [0., 0., 0., ..., 0., 1., 0.],\n",
       "       [0., 0., 0., ..., 0., 1., 0.]])"
      ]
     },
     "execution_count": 109,
     "metadata": {},
     "output_type": "execute_result"
    }
   ],
   "source": [
    "from sklearn import preprocessing\n",
    "scaler = preprocessing.MinMaxScaler()\n",
    "scaler.fit(tfidf.values)\n",
    "X_train_scaled = scaler.transform(tfidf.values)\n",
    "X_train_scaled\n"
   ]
  },
  {
   "cell_type": "markdown",
   "metadata": {},
   "source": [
    "# Кластеризация MiniBatchKMeans"
   ]
  },
  {
   "cell_type": "markdown",
   "metadata": {},
   "source": []
  },
  {
   "cell_type": "code",
   "execution_count": 110,
   "metadata": {},
   "outputs": [
    {
     "data": {
      "text/plain": [
       "array([[0.00000000e+00, 0.00000000e+00, 4.59190445e-01, 0.00000000e+00,\n",
       "        4.59190445e-01, 0.00000000e+00, 0.00000000e+00, 0.00000000e+00,\n",
       "        0.00000000e+00, 0.00000000e+00, 5.40809555e-01, 0.00000000e+00,\n",
       "        0.00000000e+00, 0.00000000e+00, 1.61030580e-04, 0.00000000e+00,\n",
       "        2.98606503e-02, 9.52886530e-01, 1.72528202e-02],\n",
       "       [0.00000000e+00, 0.00000000e+00, 0.00000000e+00, 1.00000000e+00,\n",
       "        0.00000000e+00, 0.00000000e+00, 0.00000000e+00, 1.00000000e+00,\n",
       "        0.00000000e+00, 1.00000000e+00, 0.00000000e+00, 1.00000000e+00,\n",
       "        0.00000000e+00, 0.00000000e+00, 2.91402231e-04, 0.00000000e+00,\n",
       "        0.00000000e+00, 6.94792537e-01, 3.05207463e-01],\n",
       "       [1.00000000e+00, 1.00000000e+00, 0.00000000e+00, 0.00000000e+00,\n",
       "        0.00000000e+00, 1.00000000e+00, 1.00000000e+00, 5.28817615e-01,\n",
       "        1.00000000e+00, 0.00000000e+00, 0.00000000e+00, 0.00000000e+00,\n",
       "        1.00000000e+00, 1.00000000e+00, 7.41660582e-05, 0.00000000e+00,\n",
       "        1.00000000e+00, 0.00000000e+00, 0.00000000e+00],\n",
       "       [0.00000000e+00, 0.00000000e+00, 2.73149413e-04, 0.00000000e+00,\n",
       "        2.73149413e-04, 0.00000000e+00, 0.00000000e+00, 0.00000000e+00,\n",
       "        0.00000000e+00, 0.00000000e+00, 9.99726851e-01, 0.00000000e+00,\n",
       "        0.00000000e+00, 0.00000000e+00, 7.93206244e-05, 5.91095329e-01,\n",
       "        2.73149413e-04, 0.00000000e+00, 4.08631521e-01]])"
      ]
     },
     "execution_count": 110,
     "metadata": {},
     "output_type": "execute_result"
    }
   ],
   "source": [
    "from sklearn.cluster import MiniBatchKMeans\n",
    "\n",
    "#X = df_vectors.values\n",
    "X = X_train_scaled\n",
    "kmeans = MiniBatchKMeans(n_clusters=4, random_state=0, batch_size=1000, max_iter=10, n_init=\"auto\").fit(X)\n",
    "kmeans.cluster_centers_"
   ]
  },
  {
   "cell_type": "code",
   "execution_count": 111,
   "metadata": {},
   "outputs": [
    {
     "data": {
      "text/html": [
       "<div>\n",
       "<style scoped>\n",
       "    .dataframe tbody tr th:only-of-type {\n",
       "        vertical-align: middle;\n",
       "    }\n",
       "\n",
       "    .dataframe tbody tr th {\n",
       "        vertical-align: top;\n",
       "    }\n",
       "\n",
       "    .dataframe thead th {\n",
       "        text-align: right;\n",
       "    }\n",
       "</style>\n",
       "<table border=\"1\" class=\"dataframe\">\n",
       "  <thead>\n",
       "    <tr style=\"text-align: right;\">\n",
       "      <th></th>\n",
       "      <th>object_name</th>\n",
       "      <th>object_code</th>\n",
       "      <th>cost</th>\n",
       "      <th>contract_execution_days</th>\n",
       "      <th>group</th>\n",
       "      <th>cluster</th>\n",
       "    </tr>\n",
       "  </thead>\n",
       "  <tbody>\n",
       "    <tr>\n",
       "      <th>0</th>\n",
       "      <td>Работы строительные специализированные</td>\n",
       "      <td>43.9</td>\n",
       "      <td>539265.60</td>\n",
       "      <td>29</td>\n",
       "      <td>Строительный надзор</td>\n",
       "      <td>3</td>\n",
       "    </tr>\n",
       "    <tr>\n",
       "      <th>1</th>\n",
       "      <td>Работы строительные специализированные</td>\n",
       "      <td>43.9</td>\n",
       "      <td>2299469.98</td>\n",
       "      <td>122</td>\n",
       "      <td>Строительный надзор</td>\n",
       "      <td>3</td>\n",
       "    </tr>\n",
       "    <tr>\n",
       "      <th>2</th>\n",
       "      <td>Работы строительные специализированные</td>\n",
       "      <td>43.9</td>\n",
       "      <td>1898111.58</td>\n",
       "      <td>122</td>\n",
       "      <td>Строительный надзор</td>\n",
       "      <td>3</td>\n",
       "    </tr>\n",
       "    <tr>\n",
       "      <th>3</th>\n",
       "      <td>Работы строительные специализированные</td>\n",
       "      <td>43.3</td>\n",
       "      <td>341914.00</td>\n",
       "      <td>199</td>\n",
       "      <td>Строительно-монтажные работы</td>\n",
       "      <td>0</td>\n",
       "    </tr>\n",
       "    <tr>\n",
       "      <th>4</th>\n",
       "      <td>Услуги в области архитектуры и инженерно-техни...</td>\n",
       "      <td>71.1</td>\n",
       "      <td>1714352.37</td>\n",
       "      <td>383</td>\n",
       "      <td>Проектно-изыскательские работы</td>\n",
       "      <td>2</td>\n",
       "    </tr>\n",
       "    <tr>\n",
       "      <th>...</th>\n",
       "      <td>...</td>\n",
       "      <td>...</td>\n",
       "      <td>...</td>\n",
       "      <td>...</td>\n",
       "      <td>...</td>\n",
       "      <td>...</td>\n",
       "    </tr>\n",
       "    <tr>\n",
       "      <th>95</th>\n",
       "      <td>Работы строительные специализированные</td>\n",
       "      <td>43.2</td>\n",
       "      <td>2261673.60</td>\n",
       "      <td>18</td>\n",
       "      <td>Подключение коммуникаций</td>\n",
       "      <td>3</td>\n",
       "    </tr>\n",
       "    <tr>\n",
       "      <th>96</th>\n",
       "      <td>Работы строительные специализированные</td>\n",
       "      <td>43.3</td>\n",
       "      <td>349851.95</td>\n",
       "      <td>24</td>\n",
       "      <td>Строительно-монтажные работы</td>\n",
       "      <td>0</td>\n",
       "    </tr>\n",
       "    <tr>\n",
       "      <th>97</th>\n",
       "      <td>Работы строительные специализированные</td>\n",
       "      <td>43.2</td>\n",
       "      <td>258000.00</td>\n",
       "      <td>395</td>\n",
       "      <td>Подключение коммуникаций</td>\n",
       "      <td>3</td>\n",
       "    </tr>\n",
       "    <tr>\n",
       "      <th>98</th>\n",
       "      <td>Работы строительные специализированные</td>\n",
       "      <td>43.2</td>\n",
       "      <td>1740891.56</td>\n",
       "      <td>18</td>\n",
       "      <td>Подключение коммуникаций</td>\n",
       "      <td>3</td>\n",
       "    </tr>\n",
       "    <tr>\n",
       "      <th>99</th>\n",
       "      <td>Сооружения и строительные работы в области гра...</td>\n",
       "      <td>42.9</td>\n",
       "      <td>1043400.00</td>\n",
       "      <td>18</td>\n",
       "      <td>Строительный надзор</td>\n",
       "      <td>1</td>\n",
       "    </tr>\n",
       "  </tbody>\n",
       "</table>\n",
       "<p>100 rows × 6 columns</p>\n",
       "</div>"
      ],
      "text/plain": [
       "                                          object_name object_code        cost  \\\n",
       "0              Работы строительные специализированные        43.9   539265.60   \n",
       "1              Работы строительные специализированные        43.9  2299469.98   \n",
       "2              Работы строительные специализированные        43.9  1898111.58   \n",
       "3              Работы строительные специализированные        43.3   341914.00   \n",
       "4   Услуги в области архитектуры и инженерно-техни...        71.1  1714352.37   \n",
       "..                                                ...         ...         ...   \n",
       "95             Работы строительные специализированные        43.2  2261673.60   \n",
       "96             Работы строительные специализированные        43.3   349851.95   \n",
       "97             Работы строительные специализированные        43.2   258000.00   \n",
       "98             Работы строительные специализированные        43.2  1740891.56   \n",
       "99  Сооружения и строительные работы в области гра...        42.9  1043400.00   \n",
       "\n",
       "    contract_execution_days                           group  cluster  \n",
       "0                        29             Строительный надзор        3  \n",
       "1                       122             Строительный надзор        3  \n",
       "2                       122             Строительный надзор        3  \n",
       "3                       199    Строительно-монтажные работы        0  \n",
       "4                       383  Проектно-изыскательские работы        2  \n",
       "..                      ...                             ...      ...  \n",
       "95                       18        Подключение коммуникаций        3  \n",
       "96                       24    Строительно-монтажные работы        0  \n",
       "97                      395        Подключение коммуникаций        3  \n",
       "98                       18        Подключение коммуникаций        3  \n",
       "99                       18             Строительный надзор        1  \n",
       "\n",
       "[100 rows x 6 columns]"
      ]
     },
     "execution_count": 111,
     "metadata": {},
     "output_type": "execute_result"
    }
   ],
   "source": [
    "df_cluster = df[['object_name', 'object_code', 'cost', 'contract_execution_days', 'group']].copy()\n",
    "df_cluster['cluster'] = kmeans.labels_\n",
    "df_cluster.head(100)"
   ]
  },
  {
   "cell_type": "code",
   "execution_count": 112,
   "metadata": {},
   "outputs": [
    {
     "data": {
      "text/plain": [
       "cluster\n",
       "3    280407\n",
       "1    268637\n",
       "0    222930\n",
       "2    128179\n",
       "Name: count, dtype: int64"
      ]
     },
     "execution_count": 112,
     "metadata": {},
     "output_type": "execute_result"
    }
   ],
   "source": [
    "df_cluster['cluster'].value_counts()"
   ]
  },
  {
   "cell_type": "code",
   "execution_count": 113,
   "metadata": {},
   "outputs": [
    {
     "data": {
      "text/plain": [
       "<Axes: >"
      ]
     },
     "execution_count": 113,
     "metadata": {},
     "output_type": "execute_result"
    },
    {
     "data": {
      "image/png": "[encoded data removed]",
      "text/plain": [
       "<Figure size 640x480 with 1 Axes>"
      ]
     },
     "metadata": {},
     "output_type": "display_data"
    }
   ],
   "source": [
    "df_cluster['cluster'].hist()"
   ]
  },
  {
   "cell_type": "code",
   "execution_count": 114,
   "metadata": {},
   "outputs": [
    {
     "data": {
      "image/png": "[encoded data removed]",
      "text/plain": [
       "<Figure size 640x480 with 1 Axes>"
      ]
     },
     "metadata": {},
     "output_type": "display_data"
    }
   ],
   "source": [
    "import matplotlib.pyplot as plt\n",
    "\n",
    "plt.scatter(df_cluster['object_code'], df_cluster['cluster']) \n",
    "plt.show()"
   ]
  },
  {
   "cell_type": "markdown",
   "metadata": {},
   "source": [
    "По ОКПД-2 контракты в общем случае должны разделяться так:\n",
    "\n",
    "1. Строительно-монтажные работы (СМР) - 41, 42, 43(кроме нижеперечисленных)\n",
    "2. Проектно-изыскательские работы (ПИР) - 41.1, 71.1\n",
    "3. Подключение коммуникаций - 43.22\n",
    "4. Строительный надзор – четкой группы нет. \n",
    "\n",
    "Строительный надзор - (43.9, 42.9, 42.2, 43.2) - получил на основе ручного анализа данных. Лучше всего воспользоваться специалистом в этой предметной области.\n"
   ]
  },
  {
   "cell_type": "code",
   "execution_count": 115,
   "metadata": {},
   "outputs": [
    {
     "data": {
      "text/plain": [
       "{3: Index(['43.2', '43.9'], dtype='string', name='object_code'),\n",
       " 0: Index(['41.1', '41.2', '43.1', '43.3'], dtype='string', name='object_code'),\n",
       " 2: Index(['71.1'], dtype='string', name='object_code'),\n",
       " 1: Index(['42.1', '42.2', '42.9'], dtype='string', name='object_code')}"
      ]
     },
     "execution_count": 115,
     "metadata": {},
     "output_type": "execute_result"
    }
   ],
   "source": [
    "clusters = df_cluster['cluster'].unique()\n",
    "\n",
    "comparisons = {}\n",
    "for cluster in  clusters:\n",
    "    codes = df_cluster[df_cluster['cluster']==cluster].groupby(['object_code']).count()['object_name']\n",
    "    comparisons[cluster] = codes.index\n",
    "\n",
    "comparisons\n",
    "\n"
   ]
  },
  {
   "cell_type": "code",
   "execution_count": 116,
   "metadata": {},
   "outputs": [],
   "source": [
    "def get_group(x):\n",
    "    for key, value in comparisons.items():\n",
    "        #print(x, value)\n",
    "        if x in value:            \n",
    "            return key\n",
    "    return 0\n",
    "\n",
    "#df_cluster['group'] = df_cluster['object_code'].apply(lambda x: get_group(x))\n",
    "#df_cluster.head()"
   ]
  },
  {
   "cell_type": "code",
   "execution_count": 117,
   "metadata": {},
   "outputs": [
    {
     "data": {
      "text/plain": [
       "group                           cluster  object_code\n",
       "Подключение коммуникаций        3        43.2           166377\n",
       "Проектно-изыскательские работы  0        41.1             7203\n",
       "                                2        71.1           128179\n",
       "Строительно-монтажные работы    0        41.2            94237\n",
       "                                         43.1            20794\n",
       "                                         43.3           100696\n",
       "                                1        42.1           185144\n",
       "Строительный надзор             1        42.2            30753\n",
       "                                         42.9            52740\n",
       "                                3        43.9           114030\n",
       "Name: object_name, dtype: int64"
      ]
     },
     "execution_count": 117,
     "metadata": {},
     "output_type": "execute_result"
    }
   ],
   "source": [
    "df_cluster.groupby(['group','cluster', 'object_code'])['object_name'].count() "
   ]
  },
  {
   "cell_type": "code",
   "execution_count": 118,
   "metadata": {},
   "outputs": [
    {
     "data": {
      "image/png": "[encoded data removed]",
      "text/plain": [
       "<Figure size 1600x600 with 1 Axes>"
      ]
     },
     "metadata": {},
     "output_type": "display_data"
    }
   ],
   "source": [
    "import matplotlib.pyplot as plt\n",
    "import seaborn as sns\n",
    "\n",
    "plt.figure(figsize=(16, 6))\n",
    "sns.countplot(data=df_cluster, x='group', order=df_cluster['group'].value_counts().index)\n",
    "plt.title('Количество закупок по каждому коду ОКПД')\n",
    "plt.xlabel('Код ОКПД')\n",
    "plt.ylabel('Количество')\n",
    "plt.xticks(rotation=90)\n",
    "plt.tight_layout()\n",
    "plt.show()"
   ]
  },
  {
   "cell_type": "code",
   "execution_count": 119,
   "metadata": {},
   "outputs": [
    {
     "data": {
      "text/html": [
       "<div>\n",
       "<style scoped>\n",
       "    .dataframe tbody tr th:only-of-type {\n",
       "        vertical-align: middle;\n",
       "    }\n",
       "\n",
       "    .dataframe tbody tr th {\n",
       "        vertical-align: top;\n",
       "    }\n",
       "\n",
       "    .dataframe thead th {\n",
       "        text-align: right;\n",
       "    }\n",
       "</style>\n",
       "<table border=\"1\" class=\"dataframe\">\n",
       "  <thead>\n",
       "    <tr style=\"text-align: right;\">\n",
       "      <th></th>\n",
       "      <th>cluster</th>\n",
       "      <th>max_price</th>\n",
       "      <th>avg_price</th>\n",
       "      <th>min_price</th>\n",
       "      <th>max_duration</th>\n",
       "      <th>avg_duration</th>\n",
       "      <th>min_duration</th>\n",
       "    </tr>\n",
       "  </thead>\n",
       "  <tbody>\n",
       "    <tr>\n",
       "      <th>0</th>\n",
       "      <td>0</td>\n",
       "      <td>3.573493e+10</td>\n",
       "      <td>6.849354e+06</td>\n",
       "      <td>0.01</td>\n",
       "      <td>1978</td>\n",
       "      <td>134.467268</td>\n",
       "      <td>1</td>\n",
       "    </tr>\n",
       "    <tr>\n",
       "      <th>1</th>\n",
       "      <td>1</td>\n",
       "      <td>1.387754e+11</td>\n",
       "      <td>1.438522e+07</td>\n",
       "      <td>0.01</td>\n",
       "      <td>1987</td>\n",
       "      <td>153.580959</td>\n",
       "      <td>1</td>\n",
       "    </tr>\n",
       "    <tr>\n",
       "      <th>2</th>\n",
       "      <td>2</td>\n",
       "      <td>6.943426e+09</td>\n",
       "      <td>2.739999e+06</td>\n",
       "      <td>0.01</td>\n",
       "      <td>2000</td>\n",
       "      <td>200.120776</td>\n",
       "      <td>1</td>\n",
       "    </tr>\n",
       "    <tr>\n",
       "      <th>3</th>\n",
       "      <td>3</td>\n",
       "      <td>3.573347e+09</td>\n",
       "      <td>2.153070e+06</td>\n",
       "      <td>0.01</td>\n",
       "      <td>1993</td>\n",
       "      <td>146.119633</td>\n",
       "      <td>1</td>\n",
       "    </tr>\n",
       "  </tbody>\n",
       "</table>\n",
       "</div>"
      ],
      "text/plain": [
       "   cluster     max_price     avg_price  min_price  max_duration  avg_duration  \\\n",
       "0        0  3.573493e+10  6.849354e+06       0.01          1978    134.467268   \n",
       "1        1  1.387754e+11  1.438522e+07       0.01          1987    153.580959   \n",
       "2        2  6.943426e+09  2.739999e+06       0.01          2000    200.120776   \n",
       "3        3  3.573347e+09  2.153070e+06       0.01          1993    146.119633   \n",
       "\n",
       "   min_duration  \n",
       "0             1  \n",
       "1             1  \n",
       "2             1  \n",
       "3             1  "
      ]
     },
     "execution_count": 119,
     "metadata": {},
     "output_type": "execute_result"
    }
   ],
   "source": [
    "grouped_data_int = df_cluster.groupby('cluster').agg(\n",
    "    max_price=('cost', 'max'),\n",
    "    avg_price=('cost', 'mean'),\n",
    "    min_price=('cost', 'min'),\n",
    "    max_duration=('contract_execution_days', 'max'),\n",
    "    avg_duration=('contract_execution_days', 'mean'),\n",
    "    min_duration=('contract_execution_days', 'min')).reset_index()\n",
    "grouped_data_int"
   ]
  },
  {
   "cell_type": "code",
   "execution_count": 120,
   "metadata": {},
   "outputs": [
    {
     "data": {
      "image/png": "[encoded data removed]",
      "text/plain": [
       "<Figure size 1500x600 with 1 Axes>"
      ]
     },
     "metadata": {},
     "output_type": "display_data"
    },
    {
     "data": {
      "image/png": "[encoded data removed]",
      "text/plain": [
       "<Figure size 1500x600 with 1 Axes>"
      ]
     },
     "metadata": {},
     "output_type": "display_data"
    }
   ],
   "source": [
    "plt.figure(figsize=(15, 6))\n",
    "sns.barplot(data=grouped_data_int, x='cluster', y='max_price', color='red', label='Максимальный бюджет')\n",
    "sns.barplot(data=grouped_data_int, x='cluster', y='avg_price', color='yellow', label='Средний бюджет')\n",
    "sns.barplot(data=grouped_data_int, x='cluster', y='min_price', color='green', label='Минимальный бюджет')\n",
    "plt.title('Бюджеты по групам ОКПД)')\n",
    "plt.xlabel('Группа ОКПД')\n",
    "plt.ylabel('Бюджет')\n",
    "plt.legend()\n",
    "plt.xticks(rotation=90)\n",
    "plt.yscale(\"log\")\n",
    "plt.tight_layout()\n",
    "plt.show()\n",
    "\n",
    "plt.figure(figsize=(15, 6))\n",
    "sns.barplot(data=grouped_data_int, x='cluster', y='max_duration', color='red', label='Максимальная продолжительность')\n",
    "sns.barplot(data=grouped_data_int, x='cluster', y='avg_duration', color='yellow', label='Средняя продолжительность')\n",
    "sns.barplot(data=grouped_data_int, x='cluster', y='min_duration', color='green', label='Минимальная продолжительность')\n",
    "plt.title('Продолжительность по групам ОКПД')\n",
    "plt.xlabel('Группа ОКПД')\n",
    "plt.ylabel('Продолжительность (в днях)')\n",
    "plt.legend()\n",
    "plt.xticks(rotation=90)\n",
    "plt.tight_layout()\n",
    "plt.show()"
   ]
  },
  {
   "cell_type": "code",
   "execution_count": 121,
   "metadata": {},
   "outputs": [
    {
     "data": {
      "text/plain": [
       "(900153, 6)"
      ]
     },
     "execution_count": 121,
     "metadata": {},
     "output_type": "execute_result"
    }
   ],
   "source": [
    "df_cluster.shape"
   ]
  },
  {
   "cell_type": "code",
   "execution_count": 122,
   "metadata": {},
   "outputs": [],
   "source": [
    "df_cluster.to_csv('datasets/dataset_cluster.csv', sep=';', index=False)"
   ]
  },
  {
   "cell_type": "markdown",
   "metadata": {},
   "source": [
    "### Классификация контрактов по разметке полученых с помощью кластеризации"
   ]
  },
  {
   "cell_type": "code",
   "execution_count": 123,
   "metadata": {},
   "outputs": [
    {
     "data": {
      "text/html": [
       "<div>\n",
       "<style scoped>\n",
       "    .dataframe tbody tr th:only-of-type {\n",
       "        vertical-align: middle;\n",
       "    }\n",
       "\n",
       "    .dataframe tbody tr th {\n",
       "        vertical-align: top;\n",
       "    }\n",
       "\n",
       "    .dataframe thead th {\n",
       "        text-align: right;\n",
       "    }\n",
       "</style>\n",
       "<table border=\"1\" class=\"dataframe\">\n",
       "  <thead>\n",
       "    <tr style=\"text-align: right;\">\n",
       "      <th></th>\n",
       "      <th>object_name</th>\n",
       "      <th>object_code</th>\n",
       "      <th>cost</th>\n",
       "      <th>contract_execution_days</th>\n",
       "      <th>group</th>\n",
       "      <th>cluster</th>\n",
       "    </tr>\n",
       "  </thead>\n",
       "  <tbody>\n",
       "    <tr>\n",
       "      <th>0</th>\n",
       "      <td>Работы строительные специализированные</td>\n",
       "      <td>43.9</td>\n",
       "      <td>5.392656e+05</td>\n",
       "      <td>29</td>\n",
       "      <td>Строительный надзор</td>\n",
       "      <td>3</td>\n",
       "    </tr>\n",
       "    <tr>\n",
       "      <th>1</th>\n",
       "      <td>Работы строительные специализированные</td>\n",
       "      <td>43.9</td>\n",
       "      <td>2.299470e+06</td>\n",
       "      <td>122</td>\n",
       "      <td>Строительный надзор</td>\n",
       "      <td>3</td>\n",
       "    </tr>\n",
       "    <tr>\n",
       "      <th>2</th>\n",
       "      <td>Работы строительные специализированные</td>\n",
       "      <td>43.9</td>\n",
       "      <td>1.898112e+06</td>\n",
       "      <td>122</td>\n",
       "      <td>Строительный надзор</td>\n",
       "      <td>3</td>\n",
       "    </tr>\n",
       "    <tr>\n",
       "      <th>3</th>\n",
       "      <td>Работы строительные специализированные</td>\n",
       "      <td>43.3</td>\n",
       "      <td>3.419140e+05</td>\n",
       "      <td>199</td>\n",
       "      <td>Строительно-монтажные работы</td>\n",
       "      <td>0</td>\n",
       "    </tr>\n",
       "    <tr>\n",
       "      <th>4</th>\n",
       "      <td>Услуги в области архитектуры и инженерно-техни...</td>\n",
       "      <td>71.1</td>\n",
       "      <td>1.714352e+06</td>\n",
       "      <td>383</td>\n",
       "      <td>Проектно-изыскательские работы</td>\n",
       "      <td>2</td>\n",
       "    </tr>\n",
       "    <tr>\n",
       "      <th>...</th>\n",
       "      <td>...</td>\n",
       "      <td>...</td>\n",
       "      <td>...</td>\n",
       "      <td>...</td>\n",
       "      <td>...</td>\n",
       "      <td>...</td>\n",
       "    </tr>\n",
       "    <tr>\n",
       "      <th>900148</th>\n",
       "      <td>Работы строительные специализированные</td>\n",
       "      <td>43.3</td>\n",
       "      <td>1.873113e+06</td>\n",
       "      <td>211</td>\n",
       "      <td>Строительно-монтажные работы</td>\n",
       "      <td>0</td>\n",
       "    </tr>\n",
       "    <tr>\n",
       "      <th>900149</th>\n",
       "      <td>Сооружения и строительные работы в области гра...</td>\n",
       "      <td>42.1</td>\n",
       "      <td>1.430199e+08</td>\n",
       "      <td>374</td>\n",
       "      <td>Строительно-монтажные работы</td>\n",
       "      <td>1</td>\n",
       "    </tr>\n",
       "    <tr>\n",
       "      <th>900150</th>\n",
       "      <td>Сооружения и строительные работы в области гра...</td>\n",
       "      <td>42.1</td>\n",
       "      <td>1.161912e+08</td>\n",
       "      <td>374</td>\n",
       "      <td>Строительно-монтажные работы</td>\n",
       "      <td>1</td>\n",
       "    </tr>\n",
       "    <tr>\n",
       "      <th>900151</th>\n",
       "      <td>Сооружения и строительные работы в области гра...</td>\n",
       "      <td>42.1</td>\n",
       "      <td>7.774969e+07</td>\n",
       "      <td>738</td>\n",
       "      <td>Строительно-монтажные работы</td>\n",
       "      <td>1</td>\n",
       "    </tr>\n",
       "    <tr>\n",
       "      <th>900152</th>\n",
       "      <td>Сооружения и строительные работы в области гра...</td>\n",
       "      <td>42.1</td>\n",
       "      <td>6.798035e+07</td>\n",
       "      <td>373</td>\n",
       "      <td>Строительно-монтажные работы</td>\n",
       "      <td>1</td>\n",
       "    </tr>\n",
       "  </tbody>\n",
       "</table>\n",
       "<p>900153 rows × 6 columns</p>\n",
       "</div>"
      ],
      "text/plain": [
       "                                              object_name object_code  \\\n",
       "0                  Работы строительные специализированные        43.9   \n",
       "1                  Работы строительные специализированные        43.9   \n",
       "2                  Работы строительные специализированные        43.9   \n",
       "3                  Работы строительные специализированные        43.3   \n",
       "4       Услуги в области архитектуры и инженерно-техни...        71.1   \n",
       "...                                                   ...         ...   \n",
       "900148             Работы строительные специализированные        43.3   \n",
       "900149  Сооружения и строительные работы в области гра...        42.1   \n",
       "900150  Сооружения и строительные работы в области гра...        42.1   \n",
       "900151  Сооружения и строительные работы в области гра...        42.1   \n",
       "900152  Сооружения и строительные работы в области гра...        42.1   \n",
       "\n",
       "                cost  contract_execution_days                           group  \\\n",
       "0       5.392656e+05                       29             Строительный надзор   \n",
       "1       2.299470e+06                      122             Строительный надзор   \n",
       "2       1.898112e+06                      122             Строительный надзор   \n",
       "3       3.419140e+05                      199    Строительно-монтажные работы   \n",
       "4       1.714352e+06                      383  Проектно-изыскательские работы   \n",
       "...              ...                      ...                             ...   \n",
       "900148  1.873113e+06                      211    Строительно-монтажные работы   \n",
       "900149  1.430199e+08                      374    Строительно-монтажные работы   \n",
       "900150  1.161912e+08                      374    Строительно-монтажные работы   \n",
       "900151  7.774969e+07                      738    Строительно-монтажные работы   \n",
       "900152  6.798035e+07                      373    Строительно-монтажные работы   \n",
       "\n",
       "        cluster  \n",
       "0             3  \n",
       "1             3  \n",
       "2             3  \n",
       "3             0  \n",
       "4             2  \n",
       "...         ...  \n",
       "900148        0  \n",
       "900149        1  \n",
       "900150        1  \n",
       "900151        1  \n",
       "900152        1  \n",
       "\n",
       "[900153 rows x 6 columns]"
      ]
     },
     "execution_count": 123,
     "metadata": {},
     "output_type": "execute_result"
    }
   ],
   "source": [
    "df_cluster"
   ]
  },
  {
   "cell_type": "code",
   "execution_count": 124,
   "metadata": {},
   "outputs": [],
   "source": [
    "X = df_cluster['object_name']\n",
    "y = df_cluster['cluster']"
   ]
  },
  {
   "cell_type": "code",
   "execution_count": 125,
   "metadata": {},
   "outputs": [
    {
     "name": "stdout",
     "output_type": "stream",
     "text": [
      "(630107,) (270046,)\n"
     ]
    }
   ],
   "source": [
    "from sklearn.model_selection import train_test_split\n",
    "X_train, X_test, y_train, y_test = train_test_split(X, y, test_size=0.3, random_state=42)\n",
    "print(X_train.shape, X_test.shape)"
   ]
  },
  {
   "cell_type": "code",
   "execution_count": 126,
   "metadata": {},
   "outputs": [],
   "source": [
    "from sklearn.pipeline import Pipeline\n",
    "# pipeline позволяет объединить в один блок трансформер и модель, что упрощает написание кода и улучшает его читаемость\n",
    "from sklearn.feature_extraction.text import TfidfVectorizer\n",
    "# TfidfVectorizer преобразует тексты в числовые вектора, отражающие важность использования каждого слова из некоторого набора слов (количество слов набора определяет размерность вектора) в каждом тексте\n",
    "from sklearn.linear_model import SGDClassifier\n",
    "from sklearn.neighbors import KNeighborsClassifier\n",
    "# линейный классификатор и классификатор методом ближайших соседей\n",
    "from sklearn import metrics\n",
    "# набор метрик для оценки качества модели\n",
    "from sklearn.model_selection import GridSearchCV\n",
    "# модуль поиска по сетке параметров\n",
    "\n",
    "from sklearn.metrics import confusion_matrix, ConfusionMatrixDisplay"
   ]
  },
  {
   "cell_type": "markdown",
   "metadata": {},
   "source": [
    "## Построим нейронную сеть для классификации групп с учетом стоимости и длительносим контракта "
   ]
  },
  {
   "cell_type": "code",
   "execution_count": 127,
   "metadata": {},
   "outputs": [
    {
     "data": {
      "text/html": [
       "<div>\n",
       "<style scoped>\n",
       "    .dataframe tbody tr th:only-of-type {\n",
       "        vertical-align: middle;\n",
       "    }\n",
       "\n",
       "    .dataframe tbody tr th {\n",
       "        vertical-align: top;\n",
       "    }\n",
       "\n",
       "    .dataframe thead th {\n",
       "        text-align: right;\n",
       "    }\n",
       "</style>\n",
       "<table border=\"1\" class=\"dataframe\">\n",
       "  <thead>\n",
       "    <tr style=\"text-align: right;\">\n",
       "      <th></th>\n",
       "      <th>object_name</th>\n",
       "      <th>object_code</th>\n",
       "      <th>cost</th>\n",
       "      <th>contract_execution_days</th>\n",
       "      <th>group</th>\n",
       "      <th>price_per_day</th>\n",
       "      <th>data_final</th>\n",
       "      <th>cluster</th>\n",
       "    </tr>\n",
       "  </thead>\n",
       "  <tbody>\n",
       "    <tr>\n",
       "      <th>0</th>\n",
       "      <td>Работы строительные специализированные</td>\n",
       "      <td>43.9</td>\n",
       "      <td>539265.60</td>\n",
       "      <td>29</td>\n",
       "      <td>Строительный надзор</td>\n",
       "      <td>18595.365517</td>\n",
       "      <td>['работ', 'строительн', 'специализирова']</td>\n",
       "      <td>3</td>\n",
       "    </tr>\n",
       "    <tr>\n",
       "      <th>1</th>\n",
       "      <td>Работы строительные специализированные</td>\n",
       "      <td>43.9</td>\n",
       "      <td>2299469.98</td>\n",
       "      <td>122</td>\n",
       "      <td>Строительный надзор</td>\n",
       "      <td>18848.114590</td>\n",
       "      <td>['работ', 'строительн', 'специализирова']</td>\n",
       "      <td>3</td>\n",
       "    </tr>\n",
       "    <tr>\n",
       "      <th>2</th>\n",
       "      <td>Работы строительные специализированные</td>\n",
       "      <td>43.9</td>\n",
       "      <td>1898111.58</td>\n",
       "      <td>122</td>\n",
       "      <td>Строительный надзор</td>\n",
       "      <td>15558.291639</td>\n",
       "      <td>['работ', 'строительн', 'специализирова']</td>\n",
       "      <td>3</td>\n",
       "    </tr>\n",
       "    <tr>\n",
       "      <th>3</th>\n",
       "      <td>Работы строительные специализированные</td>\n",
       "      <td>43.3</td>\n",
       "      <td>341914.00</td>\n",
       "      <td>199</td>\n",
       "      <td>Строительно-монтажные работы</td>\n",
       "      <td>1718.160804</td>\n",
       "      <td>['работ', 'строительн', 'специализирова']</td>\n",
       "      <td>0</td>\n",
       "    </tr>\n",
       "    <tr>\n",
       "      <th>4</th>\n",
       "      <td>Услуги в области архитектуры и инженерно-техни...</td>\n",
       "      <td>71.1</td>\n",
       "      <td>1714352.37</td>\n",
       "      <td>383</td>\n",
       "      <td>Проектно-изыскательские работы</td>\n",
       "      <td>4476.115849</td>\n",
       "      <td>['услуг', 'област', 'архитектур', 'проектирова...</td>\n",
       "      <td>2</td>\n",
       "    </tr>\n",
       "    <tr>\n",
       "      <th>...</th>\n",
       "      <td>...</td>\n",
       "      <td>...</td>\n",
       "      <td>...</td>\n",
       "      <td>...</td>\n",
       "      <td>...</td>\n",
       "      <td>...</td>\n",
       "      <td>...</td>\n",
       "      <td>...</td>\n",
       "    </tr>\n",
       "    <tr>\n",
       "      <th>95</th>\n",
       "      <td>Работы строительные специализированные</td>\n",
       "      <td>43.2</td>\n",
       "      <td>2261673.60</td>\n",
       "      <td>18</td>\n",
       "      <td>Подключение коммуникаций</td>\n",
       "      <td>125648.533333</td>\n",
       "      <td>['работ', 'строительн', 'специализирова']</td>\n",
       "      <td>3</td>\n",
       "    </tr>\n",
       "    <tr>\n",
       "      <th>96</th>\n",
       "      <td>Работы строительные специализированные</td>\n",
       "      <td>43.3</td>\n",
       "      <td>349851.95</td>\n",
       "      <td>24</td>\n",
       "      <td>Строительно-монтажные работы</td>\n",
       "      <td>14577.164583</td>\n",
       "      <td>['работ', 'строительн', 'специализирова']</td>\n",
       "      <td>0</td>\n",
       "    </tr>\n",
       "    <tr>\n",
       "      <th>97</th>\n",
       "      <td>Работы строительные специализированные</td>\n",
       "      <td>43.2</td>\n",
       "      <td>258000.00</td>\n",
       "      <td>395</td>\n",
       "      <td>Подключение коммуникаций</td>\n",
       "      <td>653.164557</td>\n",
       "      <td>['работ', 'строительн', 'специализирова']</td>\n",
       "      <td>3</td>\n",
       "    </tr>\n",
       "    <tr>\n",
       "      <th>98</th>\n",
       "      <td>Работы строительные специализированные</td>\n",
       "      <td>43.2</td>\n",
       "      <td>1740891.56</td>\n",
       "      <td>18</td>\n",
       "      <td>Подключение коммуникаций</td>\n",
       "      <td>96716.197778</td>\n",
       "      <td>['работ', 'строительн', 'специализирова']</td>\n",
       "      <td>3</td>\n",
       "    </tr>\n",
       "    <tr>\n",
       "      <th>99</th>\n",
       "      <td>Сооружения и строительные работы в области гра...</td>\n",
       "      <td>42.9</td>\n",
       "      <td>1043400.00</td>\n",
       "      <td>18</td>\n",
       "      <td>Строительный надзор</td>\n",
       "      <td>57966.666667</td>\n",
       "      <td>['сооружен', 'строительн', 'работ', 'област', ...</td>\n",
       "      <td>1</td>\n",
       "    </tr>\n",
       "  </tbody>\n",
       "</table>\n",
       "<p>100 rows × 8 columns</p>\n",
       "</div>"
      ],
      "text/plain": [
       "                                          object_name object_code        cost  \\\n",
       "0              Работы строительные специализированные        43.9   539265.60   \n",
       "1              Работы строительные специализированные        43.9  2299469.98   \n",
       "2              Работы строительные специализированные        43.9  1898111.58   \n",
       "3              Работы строительные специализированные        43.3   341914.00   \n",
       "4   Услуги в области архитектуры и инженерно-техни...        71.1  1714352.37   \n",
       "..                                                ...         ...         ...   \n",
       "95             Работы строительные специализированные        43.2  2261673.60   \n",
       "96             Работы строительные специализированные        43.3   349851.95   \n",
       "97             Работы строительные специализированные        43.2   258000.00   \n",
       "98             Работы строительные специализированные        43.2  1740891.56   \n",
       "99  Сооружения и строительные работы в области гра...        42.9  1043400.00   \n",
       "\n",
       "    contract_execution_days                           group  price_per_day  \\\n",
       "0                        29             Строительный надзор   18595.365517   \n",
       "1                       122             Строительный надзор   18848.114590   \n",
       "2                       122             Строительный надзор   15558.291639   \n",
       "3                       199    Строительно-монтажные работы    1718.160804   \n",
       "4                       383  Проектно-изыскательские работы    4476.115849   \n",
       "..                      ...                             ...            ...   \n",
       "95                       18        Подключение коммуникаций  125648.533333   \n",
       "96                       24    Строительно-монтажные работы   14577.164583   \n",
       "97                      395        Подключение коммуникаций     653.164557   \n",
       "98                       18        Подключение коммуникаций   96716.197778   \n",
       "99                       18             Строительный надзор   57966.666667   \n",
       "\n",
       "                                           data_final  cluster  \n",
       "0           ['работ', 'строительн', 'специализирова']        3  \n",
       "1           ['работ', 'строительн', 'специализирова']        3  \n",
       "2           ['работ', 'строительн', 'специализирова']        3  \n",
       "3           ['работ', 'строительн', 'специализирова']        0  \n",
       "4   ['услуг', 'област', 'архитектур', 'проектирова...        2  \n",
       "..                                                ...      ...  \n",
       "95          ['работ', 'строительн', 'специализирова']        3  \n",
       "96          ['работ', 'строительн', 'специализирова']        0  \n",
       "97          ['работ', 'строительн', 'специализирова']        3  \n",
       "98          ['работ', 'строительн', 'специализирова']        3  \n",
       "99  ['сооружен', 'строительн', 'работ', 'област', ...        1  \n",
       "\n",
       "[100 rows x 8 columns]"
      ]
     },
     "execution_count": 127,
     "metadata": {},
     "output_type": "execute_result"
    }
   ],
   "source": [
    "df_cls = df[['object_name', 'object_code', 'cost', 'contract_execution_days', 'group', 'price_per_day', 'data_final']].copy()\n",
    "df_cls['cluster'] = kmeans.labels_\n",
    "df_cls.head(100)"
   ]
  },
  {
   "cell_type": "code",
   "execution_count": 128,
   "metadata": {},
   "outputs": [
    {
     "data": {
      "text/plain": [
       "(900153, 15)"
      ]
     },
     "execution_count": 128,
     "metadata": {},
     "output_type": "execute_result"
    }
   ],
   "source": [
    "from sklearn.feature_extraction.text import TfidfVectorizer, CountVectorizer\n",
    "from sklearn.model_selection import train_test_split\n",
    "\n",
    "tfidf = TfidfVectorizer(max_features=1700, min_df=5, max_df=0.7)\n",
    "\n",
    "y = df_cls['cluster']\n",
    "X = df_cls['data_final']\n",
    "tfidf_X = tfidf.fit_transform(X).toarray()\n",
    "tfidf = pd.DataFrame(tfidf_X)\n",
    "tfidf['price'] = df_cls['price_per_day']\n",
    "tfidf.shape"
   ]
  },
  {
   "cell_type": "code",
   "execution_count": 129,
   "metadata": {},
   "outputs": [
    {
     "name": "stdout",
     "output_type": "stream",
     "text": [
      "(630107, 15) (270046, 15)\n"
     ]
    }
   ],
   "source": [
    "X_train, X_test, y_train, y_test = train_test_split(tfidf.values, y, test_size=0.3)\n",
    "print(X_train.shape, X_test.shape)"
   ]
  },
  {
   "cell_type": "code",
   "execution_count": 130,
   "metadata": {},
   "outputs": [],
   "source": [
    "from sklearn import preprocessing\n",
    "scaler = preprocessing.MinMaxScaler()\n",
    "scaler.fit(tfidf.values)\n",
    "X_train_scaled = scaler.transform(X_train)\n",
    "X_test_scaled = scaler.transform(X_test)\n"
   ]
  },
  {
   "cell_type": "code",
   "execution_count": 131,
   "metadata": {},
   "outputs": [
    {
     "name": "stdout",
     "output_type": "stream",
     "text": [
      "Model: \"sequential_2\"\n",
      "_________________________________________________________________\n",
      " Layer (type)                Output Shape              Param #   \n",
      "=================================================================\n",
      " fc1 (Dense)                 (None, 15)                240       \n",
      "                                                                 \n",
      " fc3 (Dense)                 (None, 30)                480       \n",
      "                                                                 \n",
      " fc4 (Dense)                 (None, 4)                 124       \n",
      "                                                                 \n",
      "=================================================================\n",
      "Total params: 844 (3.30 KB)\n",
      "Trainable params: 844 (3.30 KB)\n",
      "Non-trainable params: 0 (0.00 Byte)\n",
      "_________________________________________________________________\n"
     ]
    }
   ],
   "source": [
    "import tensorflow as tf\n",
    "tf.random.set_seed(1)\n",
    "model_nn = tf.keras.Sequential([\n",
    "tf.keras.layers.Dense(15, activation='sigmoid',name='fc1', input_shape=(15,)),\n",
    "tf.keras.layers.Dense(30, activation='sigmoid',name='fc3', input_shape=(15,)),\n",
    "tf.keras.layers.Dense(4, name='fc4', activation='softmax')])\n",
    "model_nn.summary() "
   ]
  },
  {
   "cell_type": "code",
   "execution_count": 132,
   "metadata": {},
   "outputs": [],
   "source": [
    "model_nn.compile(optimizer='adam', loss='sparse_categorical_crossentropy', metrics=['accuracy'])"
   ]
  },
  {
   "cell_type": "code",
   "execution_count": 133,
   "metadata": {},
   "outputs": [
    {
     "name": "stdout",
     "output_type": "stream",
     "text": [
      "Epoch 1/10\n",
      "19691/19691 [==============================] - 14s 711us/step - loss: 0.2946 - accuracy: 0.8608\n",
      "Epoch 2/10\n",
      "19691/19691 [==============================] - 14s 710us/step - loss: 0.2746 - accuracy: 0.8646\n",
      "Epoch 3/10\n",
      "19691/19691 [==============================] - 14s 714us/step - loss: 0.2746 - accuracy: 0.8646\n",
      "Epoch 4/10\n",
      "19691/19691 [==============================] - 14s 710us/step - loss: 0.2744 - accuracy: 0.8646\n",
      "Epoch 5/10\n",
      "19691/19691 [==============================] - 14s 711us/step - loss: 0.2744 - accuracy: 0.8646\n",
      "Epoch 6/10\n",
      "19691/19691 [==============================] - 14s 712us/step - loss: 0.2744 - accuracy: 0.8646\n",
      "Epoch 7/10\n",
      "19691/19691 [==============================] - 14s 711us/step - loss: 0.2744 - accuracy: 0.8646\n",
      "Epoch 8/10\n",
      "19691/19691 [==============================] - 14s 714us/step - loss: 0.2743 - accuracy: 0.8646\n",
      "Epoch 9/10\n",
      "19691/19691 [==============================] - 14s 716us/step - loss: 0.2743 - accuracy: 0.8646\n",
      "Epoch 10/10\n",
      "19691/19691 [==============================] - 14s 709us/step - loss: 0.2743 - accuracy: 0.8646\n"
     ]
    }
   ],
   "source": [
    "import numpy as np\n",
    "num_epochs = 10\n",
    "history = model_nn.fit(X_train_scaled, y_train, epochs=num_epochs,  verbose=1)"
   ]
  },
  {
   "cell_type": "code",
   "execution_count": 134,
   "metadata": {},
   "outputs": [
    {
     "name": "stdout",
     "output_type": "stream",
     "text": [
      "8439/8439 [==============================] - 5s 624us/step - loss: 0.2729 - accuracy: 0.8660\n",
      "Test loss: 0.2729 Test Acc.: 0.8660\n"
     ]
    }
   ],
   "source": [
    "results = model_nn.evaluate(X_test_scaled, y_test, verbose=1)\n",
    "print('Test loss: {:.4f} Test Acc.: {:.4f}'.format(*results))"
   ]
  },
  {
   "cell_type": "code",
   "execution_count": 135,
   "metadata": {},
   "outputs": [
    {
     "data": {
      "image/png": "[encoded data removed]",
      "text/plain": [
       "<Figure size 1200x500 with 2 Axes>"
      ]
     },
     "metadata": {},
     "output_type": "display_data"
    }
   ],
   "source": [
    "import matplotlib.pyplot as plt\n",
    "hist = history.history\n",
    "\n",
    "fig = plt.figure(figsize=(12, 5))\n",
    "ax = fig.add_subplot(1, 2, 1)\n",
    "ax.plot(hist['loss'], lw=3)\n",
    "ax.set_title('Training loss', size=15)\n",
    "ax.set_xlabel('Epoch', size=15)\n",
    "ax.tick_params(axis='both', which='major', labelsize=15)\n",
    "ax = fig.add_subplot(1, 2, 2)\n",
    "ax.plot(hist['accuracy'], lw=3)\n",
    "ax.set_title('Training accuracy', size=15)\n",
    "ax.set_xlabel('Epoch', size=15)\n",
    "ax.tick_params(axis='both', which='major', labelsize=15)\n",
    "plt.show()"
   ]
  },
  {
   "cell_type": "markdown",
   "metadata": {},
   "source": [
    "## Построим модель классификатора на основе градиентного бустинга CatBoost"
   ]
  },
  {
   "cell_type": "code",
   "execution_count": 136,
   "metadata": {},
   "outputs": [
    {
     "name": "stdout",
     "output_type": "stream",
     "text": [
      "Requirement already satisfied: catboost in c:\\python311\\lib\\site-packages (1.2.2)\n",
      "Requirement already satisfied: graphviz in c:\\python311\\lib\\site-packages (from catboost) (0.20.1)\n",
      "Requirement already satisfied: matplotlib in c:\\python311\\lib\\site-packages (from catboost) (3.8.0)\n",
      "Requirement already satisfied: numpy>=1.16.0 in c:\\python311\\lib\\site-packages (from catboost) (1.26.0)\n",
      "Requirement already satisfied: pandas>=0.24 in c:\\python311\\lib\\site-packages (from catboost) (2.1.1)\n",
      "Requirement already satisfied: scipy in c:\\python311\\lib\\site-packages (from catboost) (1.11.3)\n",
      "Requirement already satisfied: plotly in c:\\python311\\lib\\site-packages (from catboost) (5.17.0)\n",
      "Requirement already satisfied: six in c:\\users\\head\\appdata\\roaming\\python\\python311\\site-packages (from catboost) (1.16.0)\n",
      "Requirement already satisfied: python-dateutil>=2.8.2 in c:\\users\\head\\appdata\\roaming\\python\\python311\\site-packages (from pandas>=0.24->catboost) (2.8.2)\n",
      "Requirement already satisfied: pytz>=2020.1 in c:\\python311\\lib\\site-packages (from pandas>=0.24->catboost) (2023.3.post1)\n",
      "Requirement already satisfied: tzdata>=2022.1 in c:\\python311\\lib\\site-packages (from pandas>=0.24->catboost) (2023.3)\n",
      "Requirement already satisfied: contourpy>=1.0.1 in c:\\python311\\lib\\site-packages (from matplotlib->catboost) (1.1.1)\n",
      "Requirement already satisfied: cycler>=0.10 in c:\\python311\\lib\\site-packages (from matplotlib->catboost) (0.12.1)\n",
      "Requirement already satisfied: fonttools>=4.22.0 in c:\\python311\\lib\\site-packages (from matplotlib->catboost) (4.43.1)\n",
      "Requirement already satisfied: kiwisolver>=1.0.1 in c:\\python311\\lib\\site-packages (from matplotlib->catboost) (1.4.5)\n",
      "Requirement already satisfied: packaging>=20.0 in c:\\users\\head\\appdata\\roaming\\python\\python311\\site-packages (from matplotlib->catboost) (23.2)\n",
      "Requirement already satisfied: pillow>=6.2.0 in c:\\python311\\lib\\site-packages (from matplotlib->catboost) (10.1.0)\n",
      "Requirement already satisfied: pyparsing>=2.3.1 in c:\\python311\\lib\\site-packages (from matplotlib->catboost) (3.1.1)\n",
      "Requirement already satisfied: tenacity>=6.2.0 in c:\\python311\\lib\\site-packages (from plotly->catboost) (8.2.3)\n"
     ]
    },
    {
     "name": "stderr",
     "output_type": "stream",
     "text": [
      "\n",
      "[notice] A new release of pip is available: 23.2.1 -> 23.3.1\n",
      "[notice] To update, run: python.exe -m pip install --upgrade pip\n"
     ]
    }
   ],
   "source": [
    "! pip install catboost"
   ]
  },
  {
   "cell_type": "code",
   "execution_count": 137,
   "metadata": {},
   "outputs": [],
   "source": [
    "from catboost import CatBoostClassifier"
   ]
  },
  {
   "cell_type": "code",
   "execution_count": 138,
   "metadata": {},
   "outputs": [
    {
     "name": "stdout",
     "output_type": "stream",
     "text": [
      "(630107, 15) (270046, 15)\n"
     ]
    }
   ],
   "source": [
    "from sklearn.model_selection import train_test_split\n",
    "X_train, X_test, y_train, y_test = train_test_split(tfidf.values, y, test_size=0.3)\n",
    "print(X_train.shape, X_test.shape)"
   ]
  },
  {
   "cell_type": "code",
   "execution_count": 139,
   "metadata": {},
   "outputs": [
    {
     "name": "stdout",
     "output_type": "stream",
     "text": [
      "(135023, 15) (135023, 15)\n"
     ]
    }
   ],
   "source": [
    "X_valid, X_test, y_valid, y_test = train_test_split(X_test, y_test, test_size=0.5)\n",
    "print(X_valid.shape, X_test.shape)"
   ]
  },
  {
   "cell_type": "code",
   "execution_count": 140,
   "metadata": {},
   "outputs": [],
   "source": [
    "from catboost import CatBoostClassifier\n",
    "\n",
    "model = CatBoostClassifier(\n",
    "    iterations=1000,\n",
    "    random_seed=43,\n",
    ")"
   ]
  },
  {
   "cell_type": "code",
   "execution_count": 141,
   "metadata": {},
   "outputs": [
    {
     "name": "stdout",
     "output_type": "stream",
     "text": [
      "Learning rate set to 0.122833\n",
      "0:\tlearn: 1.1261364\ttest: 1.1265394\tbest: 1.1265394 (0)\ttotal: 87.2ms\tremaining: 1m 27s\n",
      "100:\tlearn: 0.2650009\ttest: 0.2665368\tbest: 0.2665368 (100)\ttotal: 7.64s\tremaining: 1m 8s\n",
      "200:\tlearn: 0.2648997\ttest: 0.2665153\tbest: 0.2665006 (160)\ttotal: 16s\tremaining: 1m 3s\n",
      "300:\tlearn: 0.2648614\ttest: 0.2665230\tbest: 0.2665006 (160)\ttotal: 24.5s\tremaining: 56.9s\n",
      "400:\tlearn: 0.2648414\ttest: 0.2665294\tbest: 0.2665006 (160)\ttotal: 32.9s\tremaining: 49.2s\n",
      "500:\tlearn: 0.2648294\ttest: 0.2665373\tbest: 0.2665006 (160)\ttotal: 41.4s\tremaining: 41.3s\n",
      "600:\tlearn: 0.2648196\ttest: 0.2665444\tbest: 0.2665006 (160)\ttotal: 49.9s\tremaining: 33.2s\n",
      "700:\tlearn: 0.2648127\ttest: 0.2665547\tbest: 0.2665006 (160)\ttotal: 58.4s\tremaining: 24.9s\n",
      "800:\tlearn: 0.2648085\ttest: 0.2665588\tbest: 0.2665006 (160)\ttotal: 1m 7s\tremaining: 16.7s\n",
      "900:\tlearn: 0.2648044\ttest: 0.2665661\tbest: 0.2665006 (160)\ttotal: 1m 15s\tremaining: 8.31s\n",
      "999:\tlearn: 0.2648011\ttest: 0.2665705\tbest: 0.2665006 (160)\ttotal: 1m 24s\tremaining: 0us\n",
      "\n",
      "bestTest = 0.2665006035\n",
      "bestIteration = 160\n",
      "\n",
      "Shrink model to first 161 iterations.\n"
     ]
    },
    {
     "data": {
      "text/plain": [
       "<catboost.core.CatBoostClassifier at 0x2219819c810>"
      ]
     },
     "execution_count": 141,
     "metadata": {},
     "output_type": "execute_result"
    }
   ],
   "source": [
    "model.fit(\n",
    "    X_train, y_train,\n",
    "    eval_set=(X_valid, y_valid),\n",
    "    verbose=100,\n",
    ")"
   ]
  },
  {
   "cell_type": "code",
   "execution_count": 142,
   "metadata": {},
   "outputs": [
    {
     "data": {
      "text/plain": [
       "0.8646600949467869"
      ]
     },
     "execution_count": 142,
     "metadata": {},
     "output_type": "execute_result"
    }
   ],
   "source": [
    "model.score(X_test, y_test)"
   ]
  },
  {
   "cell_type": "code",
   "execution_count": 143,
   "metadata": {},
   "outputs": [],
   "source": [
    "y_pred = model.predict(X_test)"
   ]
  },
  {
   "cell_type": "code",
   "execution_count": 144,
   "metadata": {},
   "outputs": [
    {
     "data": {
      "text/plain": [
       "<sklearn.metrics._plot.confusion_matrix.ConfusionMatrixDisplay at 0x22101e70c90>"
      ]
     },
     "execution_count": 144,
     "metadata": {},
     "output_type": "execute_result"
    },
    {
     "data": {
      "image/png": "[encoded data removed]",
      "text/plain": [
       "<Figure size 640x480 with 2 Axes>"
      ]
     },
     "metadata": {},
     "output_type": "display_data"
    }
   ],
   "source": [
    "disp = ConfusionMatrixDisplay(confusion_matrix=confusion_matrix(y_test, y_pred, normalize='all'))\n",
    "disp.plot()"
   ]
  },
  {
   "cell_type": "markdown",
   "metadata": {},
   "source": [
    "## Построем модель логистической регрессии"
   ]
  },
  {
   "cell_type": "code",
   "execution_count": 145,
   "metadata": {},
   "outputs": [
    {
     "name": "stdout",
     "output_type": "stream",
     "text": [
      "(630107, 15) (270046, 15)\n"
     ]
    }
   ],
   "source": [
    "X_train, X_test, y_train, y_test = train_test_split(tfidf.values, y, test_size=0.3)\n",
    "print(X_train.shape, X_test.shape)"
   ]
  },
  {
   "cell_type": "code",
   "execution_count": 146,
   "metadata": {},
   "outputs": [],
   "source": [
    "from sklearn import preprocessing\n",
    "scaler = preprocessing.MinMaxScaler()\n",
    "scaler.fit(tfidf.values)\n",
    "X_train_scaled = scaler.transform(X_train)\n",
    "X_test_scaled = scaler.transform(X_test)"
   ]
  },
  {
   "cell_type": "code",
   "execution_count": 147,
   "metadata": {},
   "outputs": [
    {
     "data": {
      "text/plain": [
       "array([[0.00000000e+00, 0.00000000e+00, 0.00000000e+00, ...,\n",
       "        0.00000000e+00, 0.00000000e+00, 5.43351084e-04],\n",
       "       [0.00000000e+00, 0.00000000e+00, 0.00000000e+00, ...,\n",
       "        0.00000000e+00, 0.00000000e+00, 1.89629925e-05],\n",
       "       [0.00000000e+00, 0.00000000e+00, 0.00000000e+00, ...,\n",
       "        0.00000000e+00, 0.00000000e+00, 2.99215958e-06],\n",
       "       ...,\n",
       "       [1.00000000e+00, 1.00000000e+00, 0.00000000e+00, ...,\n",
       "        1.00000000e+00, 1.00000000e+00, 7.60036950e-06],\n",
       "       [0.00000000e+00, 0.00000000e+00, 0.00000000e+00, ...,\n",
       "        0.00000000e+00, 0.00000000e+00, 5.80341635e-05],\n",
       "       [0.00000000e+00, 0.00000000e+00, 0.00000000e+00, ...,\n",
       "        0.00000000e+00, 0.00000000e+00, 5.86895206e-06]])"
      ]
     },
     "execution_count": 147,
     "metadata": {},
     "output_type": "execute_result"
    }
   ],
   "source": [
    "from sklearn.model_selection import GridSearchCV\n",
    "from sklearn.linear_model import LogisticRegression\n",
    "from sklearn import metrics\n",
    "from sklearn.metrics import confusion_matrix\n",
    "\n",
    "grid = {\"C\": np.logspace(-3, 3, 7), \"penalty\": [\"l1\", \"l2\", \"elasticnet\"]}\n",
    "grid\n",
    "X_train_scaled"
   ]
  },
  {
   "cell_type": "code",
   "execution_count": 148,
   "metadata": {},
   "outputs": [
    {
     "data": {
      "text/html": [
       "<style>#sk-container-id-1 {color: black;}#sk-container-id-1 pre{padding: 0;}#sk-container-id-1 div.sk-toggleable {background-color: white;}#sk-container-id-1 label.sk-toggleable__label {cursor: pointer;display: block;width: 100%;margin-bottom: 0;padding: 0.3em;box-sizing: border-box;text-align: center;}#sk-container-id-1 label.sk-toggleable__label-arrow:before {content: \"▸\";float: left;margin-right: 0.25em;color: #696969;}#sk-container-id-1 label.sk-toggleable__label-arrow:hover:before {color: black;}#sk-container-id-1 div.sk-estimator:hover label.sk-toggleable__label-arrow:before {color: black;}#sk-container-id-1 div.sk-toggleable__content {max-height: 0;max-width: 0;overflow: hidden;text-align: left;background-color: #f0f8ff;}#sk-container-id-1 div.sk-toggleable__content pre {margin: 0.2em;color: black;border-radius: 0.25em;background-color: #f0f8ff;}#sk-container-id-1 input.sk-toggleable__control:checked~div.sk-toggleable__content {max-height: 200px;max-width: 100%;overflow: auto;}#sk-container-id-1 input.sk-toggleable__control:checked~label.sk-toggleable__label-arrow:before {content: \"▾\";}#sk-container-id-1 div.sk-estimator input.sk-toggleable__control:checked~label.sk-toggleable__label {background-color: #d4ebff;}#sk-container-id-1 div.sk-label input.sk-toggleable__control:checked~label.sk-toggleable__label {background-color: #d4ebff;}#sk-container-id-1 input.sk-hidden--visually {border: 0;clip: rect(1px 1px 1px 1px);clip: rect(1px, 1px, 1px, 1px);height: 1px;margin: -1px;overflow: hidden;padding: 0;position: absolute;width: 1px;}#sk-container-id-1 div.sk-estimator {font-family: monospace;background-color: #f0f8ff;border: 1px dotted black;border-radius: 0.25em;box-sizing: border-box;margin-bottom: 0.5em;}#sk-container-id-1 div.sk-estimator:hover {background-color: #d4ebff;}#sk-container-id-1 div.sk-parallel-item::after {content: \"\";width: 100%;border-bottom: 1px solid gray;flex-grow: 1;}#sk-container-id-1 div.sk-label:hover label.sk-toggleable__label {background-color: #d4ebff;}#sk-container-id-1 div.sk-serial::before {content: \"\";position: absolute;border-left: 1px solid gray;box-sizing: border-box;top: 0;bottom: 0;left: 50%;z-index: 0;}#sk-container-id-1 div.sk-serial {display: flex;flex-direction: column;align-items: center;background-color: white;padding-right: 0.2em;padding-left: 0.2em;position: relative;}#sk-container-id-1 div.sk-item {position: relative;z-index: 1;}#sk-container-id-1 div.sk-parallel {display: flex;align-items: stretch;justify-content: center;background-color: white;position: relative;}#sk-container-id-1 div.sk-item::before, #sk-container-id-1 div.sk-parallel-item::before {content: \"\";position: absolute;border-left: 1px solid gray;box-sizing: border-box;top: 0;bottom: 0;left: 50%;z-index: -1;}#sk-container-id-1 div.sk-parallel-item {display: flex;flex-direction: column;z-index: 1;position: relative;background-color: white;}#sk-container-id-1 div.sk-parallel-item:first-child::after {align-self: flex-end;width: 50%;}#sk-container-id-1 div.sk-parallel-item:last-child::after {align-self: flex-start;width: 50%;}#sk-container-id-1 div.sk-parallel-item:only-child::after {width: 0;}#sk-container-id-1 div.sk-dashed-wrapped {border: 1px dashed gray;margin: 0 0.4em 0.5em 0.4em;box-sizing: border-box;padding-bottom: 0.4em;background-color: white;}#sk-container-id-1 div.sk-label label {font-family: monospace;font-weight: bold;display: inline-block;line-height: 1.2em;}#sk-container-id-1 div.sk-label-container {text-align: center;}#sk-container-id-1 div.sk-container {/* jupyter's `normalize.less` sets `[hidden] { display: none; }` but bootstrap.min.css set `[hidden] { display: none !important; }` so we also need the `!important` here to be able to override the default hidden behavior on the sphinx rendered scikit-learn.org. See: https://github.com/scikit-learn/scikit-learn/issues/21755 */display: inline-block !important;position: relative;}#sk-container-id-1 div.sk-text-repr-fallback {display: none;}</style><div id=\"sk-container-id-1\" class=\"sk-top-container\"><div class=\"sk-text-repr-fallback\"><pre>GridSearchCV(cv=10,\n",
       "             estimator=LogisticRegression(C=4, multi_class=&#x27;ovr&#x27;, penalty=&#x27;l1&#x27;,\n",
       "                                          solver=&#x27;liblinear&#x27;),\n",
       "             param_grid={&#x27;C&#x27;: array([1.e-03, 1.e-02, 1.e-01, 1.e+00, 1.e+01, 1.e+02, 1.e+03]),\n",
       "                         &#x27;penalty&#x27;: [&#x27;l1&#x27;, &#x27;l2&#x27;, &#x27;elasticnet&#x27;]})</pre><b>In a Jupyter environment, please rerun this cell to show the HTML representation or trust the notebook. <br />On GitHub, the HTML representation is unable to render, please try loading this page with nbviewer.org.</b></div><div class=\"sk-container\" hidden><div class=\"sk-item sk-dashed-wrapped\"><div class=\"sk-label-container\"><div class=\"sk-label sk-toggleable\"><input class=\"sk-toggleable__control sk-hidden--visually\" id=\"sk-estimator-id-1\" type=\"checkbox\" ><label for=\"sk-estimator-id-1\" class=\"sk-toggleable__label sk-toggleable__label-arrow\">GridSearchCV</label><div class=\"sk-toggleable__content\"><pre>GridSearchCV(cv=10,\n",
       "             estimator=LogisticRegression(C=4, multi_class=&#x27;ovr&#x27;, penalty=&#x27;l1&#x27;,\n",
       "                                          solver=&#x27;liblinear&#x27;),\n",
       "             param_grid={&#x27;C&#x27;: array([1.e-03, 1.e-02, 1.e-01, 1.e+00, 1.e+01, 1.e+02, 1.e+03]),\n",
       "                         &#x27;penalty&#x27;: [&#x27;l1&#x27;, &#x27;l2&#x27;, &#x27;elasticnet&#x27;]})</pre></div></div></div><div class=\"sk-parallel\"><div class=\"sk-parallel-item\"><div class=\"sk-item\"><div class=\"sk-label-container\"><div class=\"sk-label sk-toggleable\"><input class=\"sk-toggleable__control sk-hidden--visually\" id=\"sk-estimator-id-2\" type=\"checkbox\" ><label for=\"sk-estimator-id-2\" class=\"sk-toggleable__label sk-toggleable__label-arrow\">estimator: LogisticRegression</label><div class=\"sk-toggleable__content\"><pre>LogisticRegression(C=4, multi_class=&#x27;ovr&#x27;, penalty=&#x27;l1&#x27;, solver=&#x27;liblinear&#x27;)</pre></div></div></div><div class=\"sk-serial\"><div class=\"sk-item\"><div class=\"sk-estimator sk-toggleable\"><input class=\"sk-toggleable__control sk-hidden--visually\" id=\"sk-estimator-id-3\" type=\"checkbox\" ><label for=\"sk-estimator-id-3\" class=\"sk-toggleable__label sk-toggleable__label-arrow\">LogisticRegression</label><div class=\"sk-toggleable__content\"><pre>LogisticRegression(C=4, multi_class=&#x27;ovr&#x27;, penalty=&#x27;l1&#x27;, solver=&#x27;liblinear&#x27;)</pre></div></div></div></div></div></div></div></div></div></div>"
      ],
      "text/plain": [
       "GridSearchCV(cv=10,\n",
       "             estimator=LogisticRegression(C=4, multi_class='ovr', penalty='l1',\n",
       "                                          solver='liblinear'),\n",
       "             param_grid={'C': array([1.e-03, 1.e-02, 1.e-01, 1.e+00, 1.e+01, 1.e+02, 1.e+03]),\n",
       "                         'penalty': ['l1', 'l2', 'elasticnet']})"
      ]
     },
     "execution_count": 148,
     "metadata": {},
     "output_type": "execute_result"
    }
   ],
   "source": [
    "model_lr = LogisticRegression(multi_class='ovr', C=4, penalty='l1', solver='liblinear')\n",
    "search_model = GridSearchCV(model_lr, grid, cv=10)\n",
    "search_model.fit(X_train_scaled, y_train)"
   ]
  },
  {
   "cell_type": "code",
   "execution_count": 149,
   "metadata": {},
   "outputs": [
    {
     "data": {
      "text/plain": [
       "{'C': 0.001, 'penalty': 'l1'}"
      ]
     },
     "execution_count": 149,
     "metadata": {},
     "output_type": "execute_result"
    }
   ],
   "source": [
    "search_model.best_params_"
   ]
  },
  {
   "cell_type": "code",
   "execution_count": 150,
   "metadata": {},
   "outputs": [
    {
     "data": {
      "text/html": [
       "<style>#sk-container-id-2 {color: black;}#sk-container-id-2 pre{padding: 0;}#sk-container-id-2 div.sk-toggleable {background-color: white;}#sk-container-id-2 label.sk-toggleable__label {cursor: pointer;display: block;width: 100%;margin-bottom: 0;padding: 0.3em;box-sizing: border-box;text-align: center;}#sk-container-id-2 label.sk-toggleable__label-arrow:before {content: \"▸\";float: left;margin-right: 0.25em;color: #696969;}#sk-container-id-2 label.sk-toggleable__label-arrow:hover:before {color: black;}#sk-container-id-2 div.sk-estimator:hover label.sk-toggleable__label-arrow:before {color: black;}#sk-container-id-2 div.sk-toggleable__content {max-height: 0;max-width: 0;overflow: hidden;text-align: left;background-color: #f0f8ff;}#sk-container-id-2 div.sk-toggleable__content pre {margin: 0.2em;color: black;border-radius: 0.25em;background-color: #f0f8ff;}#sk-container-id-2 input.sk-toggleable__control:checked~div.sk-toggleable__content {max-height: 200px;max-width: 100%;overflow: auto;}#sk-container-id-2 input.sk-toggleable__control:checked~label.sk-toggleable__label-arrow:before {content: \"▾\";}#sk-container-id-2 div.sk-estimator input.sk-toggleable__control:checked~label.sk-toggleable__label {background-color: #d4ebff;}#sk-container-id-2 div.sk-label input.sk-toggleable__control:checked~label.sk-toggleable__label {background-color: #d4ebff;}#sk-container-id-2 input.sk-hidden--visually {border: 0;clip: rect(1px 1px 1px 1px);clip: rect(1px, 1px, 1px, 1px);height: 1px;margin: -1px;overflow: hidden;padding: 0;position: absolute;width: 1px;}#sk-container-id-2 div.sk-estimator {font-family: monospace;background-color: #f0f8ff;border: 1px dotted black;border-radius: 0.25em;box-sizing: border-box;margin-bottom: 0.5em;}#sk-container-id-2 div.sk-estimator:hover {background-color: #d4ebff;}#sk-container-id-2 div.sk-parallel-item::after {content: \"\";width: 100%;border-bottom: 1px solid gray;flex-grow: 1;}#sk-container-id-2 div.sk-label:hover label.sk-toggleable__label {background-color: #d4ebff;}#sk-container-id-2 div.sk-serial::before {content: \"\";position: absolute;border-left: 1px solid gray;box-sizing: border-box;top: 0;bottom: 0;left: 50%;z-index: 0;}#sk-container-id-2 div.sk-serial {display: flex;flex-direction: column;align-items: center;background-color: white;padding-right: 0.2em;padding-left: 0.2em;position: relative;}#sk-container-id-2 div.sk-item {position: relative;z-index: 1;}#sk-container-id-2 div.sk-parallel {display: flex;align-items: stretch;justify-content: center;background-color: white;position: relative;}#sk-container-id-2 div.sk-item::before, #sk-container-id-2 div.sk-parallel-item::before {content: \"\";position: absolute;border-left: 1px solid gray;box-sizing: border-box;top: 0;bottom: 0;left: 50%;z-index: -1;}#sk-container-id-2 div.sk-parallel-item {display: flex;flex-direction: column;z-index: 1;position: relative;background-color: white;}#sk-container-id-2 div.sk-parallel-item:first-child::after {align-self: flex-end;width: 50%;}#sk-container-id-2 div.sk-parallel-item:last-child::after {align-self: flex-start;width: 50%;}#sk-container-id-2 div.sk-parallel-item:only-child::after {width: 0;}#sk-container-id-2 div.sk-dashed-wrapped {border: 1px dashed gray;margin: 0 0.4em 0.5em 0.4em;box-sizing: border-box;padding-bottom: 0.4em;background-color: white;}#sk-container-id-2 div.sk-label label {font-family: monospace;font-weight: bold;display: inline-block;line-height: 1.2em;}#sk-container-id-2 div.sk-label-container {text-align: center;}#sk-container-id-2 div.sk-container {/* jupyter's `normalize.less` sets `[hidden] { display: none; }` but bootstrap.min.css set `[hidden] { display: none !important; }` so we also need the `!important` here to be able to override the default hidden behavior on the sphinx rendered scikit-learn.org. See: https://github.com/scikit-learn/scikit-learn/issues/21755 */display: inline-block !important;position: relative;}#sk-container-id-2 div.sk-text-repr-fallback {display: none;}</style><div id=\"sk-container-id-2\" class=\"sk-top-container\"><div class=\"sk-text-repr-fallback\"><pre>LogisticRegression(C=0.001, multi_class=&#x27;ovr&#x27;, penalty=&#x27;l1&#x27;, solver=&#x27;liblinear&#x27;)</pre><b>In a Jupyter environment, please rerun this cell to show the HTML representation or trust the notebook. <br />On GitHub, the HTML representation is unable to render, please try loading this page with nbviewer.org.</b></div><div class=\"sk-container\" hidden><div class=\"sk-item\"><div class=\"sk-estimator sk-toggleable\"><input class=\"sk-toggleable__control sk-hidden--visually\" id=\"sk-estimator-id-4\" type=\"checkbox\" checked><label for=\"sk-estimator-id-4\" class=\"sk-toggleable__label sk-toggleable__label-arrow\">LogisticRegression</label><div class=\"sk-toggleable__content\"><pre>LogisticRegression(C=0.001, multi_class=&#x27;ovr&#x27;, penalty=&#x27;l1&#x27;, solver=&#x27;liblinear&#x27;)</pre></div></div></div></div></div>"
      ],
      "text/plain": [
       "LogisticRegression(C=0.001, multi_class='ovr', penalty='l1', solver='liblinear')"
      ]
     },
     "execution_count": 150,
     "metadata": {},
     "output_type": "execute_result"
    }
   ],
   "source": [
    "model = search_model.best_estimator_\n",
    "model.fit(X_train_scaled, y_train)"
   ]
  },
  {
   "cell_type": "code",
   "execution_count": 151,
   "metadata": {},
   "outputs": [],
   "source": [
    "y_pred = model.predict(X_test_scaled)"
   ]
  },
  {
   "cell_type": "code",
   "execution_count": 152,
   "metadata": {},
   "outputs": [
    {
     "data": {
      "text/plain": [
       "0.8651155729023944"
      ]
     },
     "execution_count": 152,
     "metadata": {},
     "output_type": "execute_result"
    }
   ],
   "source": [
    "model.score(X_test_scaled, y_test)"
   ]
  },
  {
   "cell_type": "code",
   "execution_count": 153,
   "metadata": {},
   "outputs": [
    {
     "name": "stdout",
     "output_type": "stream",
     "text": [
      "              precision    recall  f1-score   support\n",
      "\n",
      "           0       0.46      1.00      0.63     30436\n",
      "           1       1.00      1.00      1.00     80227\n",
      "           2       1.00      1.00      1.00     38661\n",
      "           3       1.00      0.70      0.82    120722\n",
      "\n",
      "    accuracy                           0.87    270046\n",
      "   macro avg       0.86      0.92      0.86    270046\n",
      "weighted avg       0.94      0.87      0.88    270046\n",
      "\n"
     ]
    }
   ],
   "source": [
    "print(metrics.classification_report(y_pred, y_test))"
   ]
  },
  {
   "cell_type": "code",
   "execution_count": 154,
   "metadata": {},
   "outputs": [
    {
     "data": {
      "text/plain": [
       "array([[30436,     0,     0,     0],\n",
       "       [    0, 80227,     0,     0],\n",
       "       [    0,     0, 38661,     0],\n",
       "       [36425,     0,     0, 84297]], dtype=int64)"
      ]
     },
     "execution_count": 154,
     "metadata": {},
     "output_type": "execute_result"
    }
   ],
   "source": [
    "confusion_matrix(y_pred, y_test)"
   ]
  },
  {
   "cell_type": "code",
   "execution_count": 155,
   "metadata": {},
   "outputs": [
    {
     "data": {
      "text/plain": [
       "<sklearn.metrics._plot.confusion_matrix.ConfusionMatrixDisplay at 0x2210aaf5850>"
      ]
     },
     "execution_count": 155,
     "metadata": {},
     "output_type": "execute_result"
    },
    {
     "data": {
      "image/png": "[encoded data removed]",
      "text/plain": [
       "<Figure size 640x480 with 2 Axes>"
      ]
     },
     "metadata": {},
     "output_type": "display_data"
    }
   ],
   "source": [
    "from sklearn.metrics import confusion_matrix, ConfusionMatrixDisplay\n",
    "\n",
    "cm = confusion_matrix(y_pred, y_test, normalize='all')\n",
    "cmd = ConfusionMatrixDisplay(cm)\n",
    "cmd.plot()"
   ]
  },
  {
   "cell_type": "markdown",
   "metadata": {},
   "source": [
    "## Выводы\n",
    "\n",
    "На этом шаге выполнили кластеризацию  по наименованию услуги. Для этого уже разобранный текст на предыдущем шаге был векторизован с помощью TfidfVectorizer. К полученным признакам добавлены стоимость за день и группа контракта (как задано в условии). Группа была закодирована с помощью OneHotEncoder. Признаки были нормализованы с помощью MinMaxScaler.\n",
    "\n",
    "Услуги распределились по кластеру, визуально видно, что описание услуги соответствует кластеру. Но полученные кластера не совсем соответствуют группам по условию. Возможно не обходимо либо пересмотреть группировку кодов и обратится за помощью к специалисту из предметной области для уточнения ТЗ. В итоге, было принято решение обучить модель классификации, а в качестве метки использовать кластер.\n",
    "\n",
    "Выполнена задача по классификации определения группы, к которой относится контракты. Классификация была выполнена с использованием разных моделей:\n",
    "- Нейронная сеть c помощью библиотеки TensorFlow.\n",
    "- Градиентный бустинг с помощью библиотеки CatBoost.\n",
    "- Логистическая регрессия с помощью библиотеки sklearn.\n",
    "\n",
    "Как показали эксперименты лучше всего показала классическая модель машинного обучения - логистическая регрессия. Она показала лучшую точность 0.865 и производительность (скорость обучения). \n",
    "При обучении модели логистической регрессии подбирались гипперпараметры с помощью GridSearchCV. \n",
    "\n",
    "Есть ошибки в неправильной классификации. Возможно необходимо уточнить в ТЗ правильность группировки кодов ОКПД-2.\n",
    "\n",
    "В результате проделанной работы был разработан классификатор групп кодов ОКПД-2 с точность предсказания 0.865, что соответствует заданию.\n"
   ]
  }
 ],
 "metadata": {
  "kernelspec": {
   "display_name": "Python 3",
   "language": "python",
   "name": "python3"
  },
  "language_info": {
   "codemirror_mode": {
    "name": "ipython",
    "version": 3
   },
   "file_extension": ".py",
   "mimetype": "text/x-python",
   "name": "python",
   "nbconvert_exporter": "python",
   "pygments_lexer": "ipython3",
   "version": "3.11.5"
  }
 },
 "nbformat": 4,
 "nbformat_minor": 2
}
